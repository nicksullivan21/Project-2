{
 "metadata": {
  "language_info": {
   "codemirror_mode": {
    "name": "ipython",
    "version": 3
   },
   "file_extension": ".py",
   "mimetype": "text/x-python",
   "name": "python",
   "nbconvert_exporter": "python",
   "pygments_lexer": "ipython3",
   "version": "3.8.5"
  },
  "orig_nbformat": 2,
  "kernelspec": {
   "name": "python3",
   "display_name": "Python 3.8.5 64-bit ('base': conda)",
   "metadata": {
    "interpreter": {
     "hash": "344443636c3027c5042750c9c609acdda283a9c43681b128a8c1053e7ad2aa7d"
    }
   }
  }
 },
 "nbformat": 4,
 "nbformat_minor": 2,
 "cells": [
  {
   "cell_type": "code",
   "execution_count": 56,
   "metadata": {},
   "outputs": [],
   "source": [
    "# Dependencies\n",
    "import pandas as pd\n",
    "import numpy as np"
   ]
  },
  {
   "cell_type": "code",
   "execution_count": 57,
   "metadata": {},
   "outputs": [],
   "source": [
    "# Store filepath in a variable\n",
    "ausPPIdata = \"Data/ResidentialPropertyPriceData.xls\""
   ]
  },
  {
   "cell_type": "code",
   "execution_count": 58,
   "metadata": {},
   "outputs": [],
   "source": [
    "# Read data file with pandas library\n",
    "ausPPI_df = pd.read_excel(ausPPIdata, 'Data1')"
   ]
  },
  {
   "cell_type": "code",
   "execution_count": 59,
   "metadata": {},
   "outputs": [],
   "source": [
    "# Delete unnecessary rows / rows with null values\n",
    "ausPPI_df = ausPPI_df.drop(ausPPI_df.index[0:15])"
   ]
  },
  {
   "cell_type": "code",
   "execution_count": 60,
   "metadata": {},
   "outputs": [],
   "source": [
    "# Delete unnecessary columns\n",
    "ausPPI_df.drop(ausPPI_df.columns[1:9], axis=1, inplace=True)"
   ]
  },
  {
   "cell_type": "code",
   "execution_count": 61,
   "metadata": {},
   "outputs": [],
   "source": [
    "ausPPI_df.drop(ausPPI_df.columns[2:20], axis=1, inplace=True)"
   ]
  },
  {
   "cell_type": "code",
   "execution_count": 62,
   "metadata": {},
   "outputs": [
    {
     "output_type": "execute_result",
     "data": {
      "text/plain": [
       "             Unnamed: 0  \\\n",
       "15  2005-03-01 00:00:00   \n",
       "16  2005-06-01 00:00:00   \n",
       "17  2005-09-01 00:00:00   \n",
       "18  2005-12-01 00:00:00   \n",
       "19  2006-03-01 00:00:00   \n",
       "..                  ...   \n",
       "74  2019-12-01 00:00:00   \n",
       "75  2020-03-01 00:00:00   \n",
       "76  2020-06-01 00:00:00   \n",
       "77  2020-09-01 00:00:00   \n",
       "78  2020-12-01 00:00:00   \n",
       "\n",
       "   Residential Property Price Index ;  Weighted average of eight capital cities ;  \n",
       "15                                               71.7                              \n",
       "16                                               72.2                              \n",
       "17                                               72.1                              \n",
       "18                                               73.5                              \n",
       "19                                               74.3                              \n",
       "..                                                ...                              \n",
       "74                                              143.5                              \n",
       "75                                              145.8                              \n",
       "76                                              143.2                              \n",
       "77                                              144.3                              \n",
       "78                                              148.7                              \n",
       "\n",
       "[64 rows x 2 columns]"
      ],
      "text/html": "<div>\n<style scoped>\n    .dataframe tbody tr th:only-of-type {\n        vertical-align: middle;\n    }\n\n    .dataframe tbody tr th {\n        vertical-align: top;\n    }\n\n    .dataframe thead th {\n        text-align: right;\n    }\n</style>\n<table border=\"1\" class=\"dataframe\">\n  <thead>\n    <tr style=\"text-align: right;\">\n      <th></th>\n      <th>Unnamed: 0</th>\n      <th>Residential Property Price Index ;  Weighted average of eight capital cities ;</th>\n    </tr>\n  </thead>\n  <tbody>\n    <tr>\n      <th>15</th>\n      <td>2005-03-01 00:00:00</td>\n      <td>71.7</td>\n    </tr>\n    <tr>\n      <th>16</th>\n      <td>2005-06-01 00:00:00</td>\n      <td>72.2</td>\n    </tr>\n    <tr>\n      <th>17</th>\n      <td>2005-09-01 00:00:00</td>\n      <td>72.1</td>\n    </tr>\n    <tr>\n      <th>18</th>\n      <td>2005-12-01 00:00:00</td>\n      <td>73.5</td>\n    </tr>\n    <tr>\n      <th>19</th>\n      <td>2006-03-01 00:00:00</td>\n      <td>74.3</td>\n    </tr>\n    <tr>\n      <th>...</th>\n      <td>...</td>\n      <td>...</td>\n    </tr>\n    <tr>\n      <th>74</th>\n      <td>2019-12-01 00:00:00</td>\n      <td>143.5</td>\n    </tr>\n    <tr>\n      <th>75</th>\n      <td>2020-03-01 00:00:00</td>\n      <td>145.8</td>\n    </tr>\n    <tr>\n      <th>76</th>\n      <td>2020-06-01 00:00:00</td>\n      <td>143.2</td>\n    </tr>\n    <tr>\n      <th>77</th>\n      <td>2020-09-01 00:00:00</td>\n      <td>144.3</td>\n    </tr>\n    <tr>\n      <th>78</th>\n      <td>2020-12-01 00:00:00</td>\n      <td>148.7</td>\n    </tr>\n  </tbody>\n</table>\n<p>64 rows × 2 columns</p>\n</div>"
     },
     "metadata": {},
     "execution_count": 62
    }
   ],
   "source": [
    "ausPPI_df"
   ]
  },
  {
   "cell_type": "code",
   "execution_count": 63,
   "metadata": {},
   "outputs": [
    {
     "output_type": "stream",
     "name": "stdout",
     "text": [
      "<class 'pandas.core.frame.DataFrame'>\nInt64Index: 64 entries, 15 to 78\nData columns (total 2 columns):\n #   Column            Non-Null Count  Dtype \n---  ------            --------------  ----- \n 0   Period            64 non-null     object\n 1   Weighted Average  64 non-null     object\ndtypes: object(2)\nmemory usage: 1.5+ KB\n"
     ]
    }
   ],
   "source": [
    "# Rename columns\n",
    "new_columns = {ausPPI_df.columns[0]: 'Period',\n",
    "    ausPPI_df.columns[1]:'Weighted Average'}\n",
    "\n",
    "ausPPI_df.rename(columns=new_columns, inplace=True)\n",
    "\n",
    "ausPPI_df.info()\n"
   ]
  },
  {
   "cell_type": "code",
   "execution_count": 64,
   "metadata": {},
   "outputs": [
    {
     "output_type": "execute_result",
     "data": {
      "text/plain": [
       "                 Period Weighted Average\n",
       "15  2005-03-01 00:00:00             71.7\n",
       "16  2005-06-01 00:00:00             72.2\n",
       "17  2005-09-01 00:00:00             72.1\n",
       "18  2005-12-01 00:00:00             73.5\n",
       "19  2006-03-01 00:00:00             74.3\n",
       "..                  ...              ...\n",
       "74  2019-12-01 00:00:00            143.5\n",
       "75  2020-03-01 00:00:00            145.8\n",
       "76  2020-06-01 00:00:00            143.2\n",
       "77  2020-09-01 00:00:00            144.3\n",
       "78  2020-12-01 00:00:00            148.7\n",
       "\n",
       "[64 rows x 2 columns]"
      ],
      "text/html": "<div>\n<style scoped>\n    .dataframe tbody tr th:only-of-type {\n        vertical-align: middle;\n    }\n\n    .dataframe tbody tr th {\n        vertical-align: top;\n    }\n\n    .dataframe thead th {\n        text-align: right;\n    }\n</style>\n<table border=\"1\" class=\"dataframe\">\n  <thead>\n    <tr style=\"text-align: right;\">\n      <th></th>\n      <th>Period</th>\n      <th>Weighted Average</th>\n    </tr>\n  </thead>\n  <tbody>\n    <tr>\n      <th>15</th>\n      <td>2005-03-01 00:00:00</td>\n      <td>71.7</td>\n    </tr>\n    <tr>\n      <th>16</th>\n      <td>2005-06-01 00:00:00</td>\n      <td>72.2</td>\n    </tr>\n    <tr>\n      <th>17</th>\n      <td>2005-09-01 00:00:00</td>\n      <td>72.1</td>\n    </tr>\n    <tr>\n      <th>18</th>\n      <td>2005-12-01 00:00:00</td>\n      <td>73.5</td>\n    </tr>\n    <tr>\n      <th>19</th>\n      <td>2006-03-01 00:00:00</td>\n      <td>74.3</td>\n    </tr>\n    <tr>\n      <th>...</th>\n      <td>...</td>\n      <td>...</td>\n    </tr>\n    <tr>\n      <th>74</th>\n      <td>2019-12-01 00:00:00</td>\n      <td>143.5</td>\n    </tr>\n    <tr>\n      <th>75</th>\n      <td>2020-03-01 00:00:00</td>\n      <td>145.8</td>\n    </tr>\n    <tr>\n      <th>76</th>\n      <td>2020-06-01 00:00:00</td>\n      <td>143.2</td>\n    </tr>\n    <tr>\n      <th>77</th>\n      <td>2020-09-01 00:00:00</td>\n      <td>144.3</td>\n    </tr>\n    <tr>\n      <th>78</th>\n      <td>2020-12-01 00:00:00</td>\n      <td>148.7</td>\n    </tr>\n  </tbody>\n</table>\n<p>64 rows × 2 columns</p>\n</div>"
     },
     "metadata": {},
     "execution_count": 64
    }
   ],
   "source": [
    "ausPPI_df"
   ]
  },
  {
   "cell_type": "code",
   "execution_count": 70,
   "metadata": {},
   "outputs": [],
   "source": [
    "# Store interest rate data filepath in a variable\n",
    "interestRateData = \"Data/InterestRateData.csv\""
   ]
  },
  {
   "cell_type": "code",
   "execution_count": 66,
   "metadata": {},
   "outputs": [],
   "source": [
    "# Read data file with pandas library\n",
    "interestRate_df = pd.read_excel(interestRateData, 'Data')"
   ]
  },
  {
   "cell_type": "code",
   "execution_count": 67,
   "metadata": {},
   "outputs": [],
   "source": [
    "# Delete unnecessary rows / rows with null values\n",
    "interestRate_df = interestRate_df.drop(interestRate_df.index[0:421])"
   ]
  },
  {
   "cell_type": "code",
   "execution_count": 68,
   "metadata": {},
   "outputs": [],
   "source": [
    "# Delete unnecessary columns\n",
    "interestRate_df.drop(interestRate_df.columns[2:13], axis=1, inplace=True)"
   ]
  },
  {
   "cell_type": "code",
   "execution_count": 69,
   "metadata": {},
   "outputs": [
    {
     "output_type": "execute_result",
     "data": {
      "text/plain": [
       "    F1.1 INTEREST RATES AND YIELDS – MONEY MARKET Unnamed: 1\n",
       "421                           2003-09-30 00:00:00       4.75\n",
       "422                           2003-10-31 00:00:00       4.75\n",
       "423                           2003-11-30 00:00:00      4.975\n",
       "424                           2003-12-31 00:00:00    5.22619\n",
       "425                           2004-01-31 00:00:00       5.25\n",
       "..                                            ...        ...\n",
       "627                           2020-11-30 00:00:00       0.11\n",
       "628                           2020-12-31 00:00:00        0.1\n",
       "629                           2021-01-31 00:00:00        0.1\n",
       "630                           2021-02-28 00:00:00        0.1\n",
       "631                           2021-03-31 00:00:00        0.1\n",
       "\n",
       "[211 rows x 2 columns]"
      ],
      "text/html": "<div>\n<style scoped>\n    .dataframe tbody tr th:only-of-type {\n        vertical-align: middle;\n    }\n\n    .dataframe tbody tr th {\n        vertical-align: top;\n    }\n\n    .dataframe thead th {\n        text-align: right;\n    }\n</style>\n<table border=\"1\" class=\"dataframe\">\n  <thead>\n    <tr style=\"text-align: right;\">\n      <th></th>\n      <th>F1.1 INTEREST RATES AND YIELDS – MONEY MARKET</th>\n      <th>Unnamed: 1</th>\n    </tr>\n  </thead>\n  <tbody>\n    <tr>\n      <th>421</th>\n      <td>2003-09-30 00:00:00</td>\n      <td>4.75</td>\n    </tr>\n    <tr>\n      <th>422</th>\n      <td>2003-10-31 00:00:00</td>\n      <td>4.75</td>\n    </tr>\n    <tr>\n      <th>423</th>\n      <td>2003-11-30 00:00:00</td>\n      <td>4.975</td>\n    </tr>\n    <tr>\n      <th>424</th>\n      <td>2003-12-31 00:00:00</td>\n      <td>5.22619</td>\n    </tr>\n    <tr>\n      <th>425</th>\n      <td>2004-01-31 00:00:00</td>\n      <td>5.25</td>\n    </tr>\n    <tr>\n      <th>...</th>\n      <td>...</td>\n      <td>...</td>\n    </tr>\n    <tr>\n      <th>627</th>\n      <td>2020-11-30 00:00:00</td>\n      <td>0.11</td>\n    </tr>\n    <tr>\n      <th>628</th>\n      <td>2020-12-31 00:00:00</td>\n      <td>0.1</td>\n    </tr>\n    <tr>\n      <th>629</th>\n      <td>2021-01-31 00:00:00</td>\n      <td>0.1</td>\n    </tr>\n    <tr>\n      <th>630</th>\n      <td>2021-02-28 00:00:00</td>\n      <td>0.1</td>\n    </tr>\n    <tr>\n      <th>631</th>\n      <td>2021-03-31 00:00:00</td>\n      <td>0.1</td>\n    </tr>\n  </tbody>\n</table>\n<p>211 rows × 2 columns</p>\n</div>"
     },
     "metadata": {},
     "execution_count": 69
    }
   ],
   "source": [
    "interestRate_df"
   ]
  },
  {
   "cell_type": "code",
   "execution_count": null,
   "metadata": {},
   "outputs": [],
   "source": []
  },
  {
   "cell_type": "code",
   "execution_count": null,
   "metadata": {},
   "outputs": [],
   "source": []
  }
 ]
}