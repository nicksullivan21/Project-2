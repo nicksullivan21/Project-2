{
 "metadata": {
  "language_info": {
   "codemirror_mode": {
    "name": "ipython",
    "version": 3
   },
   "file_extension": ".py",
   "mimetype": "text/x-python",
   "name": "python",
   "nbconvert_exporter": "python",
   "pygments_lexer": "ipython3",
   "version": "3.8.5"
  },
  "orig_nbformat": 2,
  "kernelspec": {
   "name": "python3",
   "display_name": "Python 3.8.5 64-bit ('base': conda)",
   "metadata": {
    "interpreter": {
     "hash": "344443636c3027c5042750c9c609acdda283a9c43681b128a8c1053e7ad2aa7d"
    }
   }
  }
 },
 "nbformat": 4,
 "nbformat_minor": 2,
 "cells": [
  {
   "cell_type": "code",
   "execution_count": 57,
   "metadata": {},
   "outputs": [],
   "source": [
    "# Dependencies\n",
    "import pandas as pd\n",
    "import numpy as np\n",
    "import json"
   ]
  },
  {
   "cell_type": "code",
   "execution_count": 58,
   "metadata": {},
   "outputs": [],
   "source": [
    "# Store filepath in a variable\n",
    "cityPPIdata = \"Data/ResidentialPropertyPriceData.xls\""
   ]
  },
  {
   "cell_type": "code",
   "execution_count": 59,
   "metadata": {},
   "outputs": [],
   "source": [
    "# Read data file with pandas library\n",
    "cityPPI_df = pd.read_excel(cityPPIdata, 'Data1')"
   ]
  },
  {
   "cell_type": "code",
   "execution_count": 60,
   "metadata": {},
   "outputs": [],
   "source": [
    "# Delete unnecessary rows / rows with null values\n",
    "cityPPI_df = cityPPI_df.drop(cityPPI_df.index[0:15])"
   ]
  },
  {
   "cell_type": "code",
   "execution_count": 61,
   "metadata": {},
   "outputs": [],
   "source": [
    "# Delete unnecessary columns\n",
    "cityPPI_df.drop(cityPPI_df.columns[10:28], axis=1, inplace=True)"
   ]
  },
  {
   "cell_type": "code",
   "execution_count": 62,
   "metadata": {},
   "outputs": [
    {
     "output_type": "stream",
     "name": "stdout",
     "text": [
      "<class 'pandas.core.frame.DataFrame'>\nInt64Index: 64 entries, 15 to 78\nData columns (total 10 columns):\n #   Column            Non-Null Count  Dtype \n---  ------            --------------  ----- \n 0   FY                64 non-null     object\n 1   Sydney            64 non-null     object\n 2   Melbourne         64 non-null     object\n 3   Brisbane          64 non-null     object\n 4   Adelaide          64 non-null     object\n 5   Perth             64 non-null     object\n 6   Hobart            64 non-null     object\n 7   Darwin            64 non-null     object\n 8   Canberra          64 non-null     object\n 9   Weighted Average  64 non-null     object\ndtypes: object(10)\nmemory usage: 5.5+ KB\n"
     ]
    }
   ],
   "source": [
    "# Rename columns\n",
    "new_columns = {cityPPI_df.columns[0]: 'FY',\n",
    "    cityPPI_df.columns[1]:'Sydney',\n",
    "    cityPPI_df.columns[2]:'Melbourne',\n",
    "    cityPPI_df.columns[3]:'Brisbane',\n",
    "    cityPPI_df.columns[4]:'Adelaide',\n",
    "    cityPPI_df.columns[5]:'Perth',\n",
    "    cityPPI_df.columns[6]:'Hobart',\n",
    "    cityPPI_df.columns[7]:'Darwin',\n",
    "    cityPPI_df.columns[8]:'Canberra',\n",
    "    cityPPI_df.columns[9]:'Weighted Average'}\n",
    "\n",
    "cityPPI_df.rename(columns=new_columns, inplace=True)\n",
    "\n",
    "cityPPI_df.info()\n"
   ]
  },
  {
   "cell_type": "code",
   "execution_count": 63,
   "metadata": {},
   "outputs": [],
   "source": [
    "# Convert Period to datetime format\n",
    "cityPPI_df['FY'] = cityPPI_df['FY'].apply(pd.to_datetime)"
   ]
  },
  {
   "cell_type": "code",
   "execution_count": 64,
   "metadata": {},
   "outputs": [],
   "source": [
    "# Select only PPI at end of FY\n",
    "fy_df = cityPPI_df[cityPPI_df.FY.dt.month == 6]"
   ]
  },
  {
   "cell_type": "code",
   "execution_count": 65,
   "metadata": {},
   "outputs": [
    {
     "output_type": "execute_result",
     "data": {
      "text/plain": [
       "      FY Sydney Melbourne Brisbane Adelaide  Perth Hobart Darwin Canberra  \\\n",
       "16  2005   82.6      63.2     73.3     69.3   62.6   76.9   54.7     69.9   \n",
       "20  2006   82.3      67.2     77.5     73.4   86.4   83.4   67.1     74.3   \n",
       "24  2007   85.2        76       89     81.9   97.7   89.6   74.1       82   \n",
       "28  2008   87.3      85.5    101.3     93.8   97.6   95.2   78.5     87.7   \n",
       "32  2009   87.5      86.9     98.8     95.8   95.1   96.4     89     88.7   \n",
       "36  2010  101.4     106.2      107    104.7  106.6  103.6  100.9    101.6   \n",
       "40  2011  101.4     103.5    102.5      101  100.2  102.9   96.5    101.9   \n",
       "44  2012  101.4      99.3     99.9     99.6    101   98.2  104.1     99.5   \n",
       "48  2013  108.7     102.7    103.2    100.9  110.6    100    111      101   \n",
       "52  2014    126     112.1    110.5    105.6  114.8  104.1  114.7    103.3   \n",
       "56  2015  149.8     120.8    113.7    108.5  113.4  105.7  112.6    106.2   \n",
       "60  2016  155.2     130.7    118.6    112.3    108  110.9  105.3    112.6   \n",
       "64  2017  176.6     148.7    122.1    117.9  104.7  124.7  100.1    121.5   \n",
       "68  2018  169.8     152.1    124.2    120.4  103.8    144     94    125.2   \n",
       "72  2019  153.5     137.9    120.9    120.3   99.7  146.9   89.3    124.7   \n",
       "76  2020  165.9       150    123.7    121.1   99.5  155.8   86.9    129.2   \n",
       "\n",
       "   Weighted Average  \n",
       "16             72.2  \n",
       "20               77  \n",
       "24             84.1  \n",
       "28               90  \n",
       "32             90.2  \n",
       "36            104.3  \n",
       "40              102  \n",
       "44            100.4  \n",
       "48            105.7  \n",
       "52            116.4  \n",
       "56            127.8  \n",
       "60              133  \n",
       "64            146.5  \n",
       "68            145.6  \n",
       "72            134.8  \n",
       "76            143.2  "
      ],
      "text/html": "<div>\n<style scoped>\n    .dataframe tbody tr th:only-of-type {\n        vertical-align: middle;\n    }\n\n    .dataframe tbody tr th {\n        vertical-align: top;\n    }\n\n    .dataframe thead th {\n        text-align: right;\n    }\n</style>\n<table border=\"1\" class=\"dataframe\">\n  <thead>\n    <tr style=\"text-align: right;\">\n      <th></th>\n      <th>FY</th>\n      <th>Sydney</th>\n      <th>Melbourne</th>\n      <th>Brisbane</th>\n      <th>Adelaide</th>\n      <th>Perth</th>\n      <th>Hobart</th>\n      <th>Darwin</th>\n      <th>Canberra</th>\n      <th>Weighted Average</th>\n    </tr>\n  </thead>\n  <tbody>\n    <tr>\n      <th>16</th>\n      <td>2005</td>\n      <td>82.6</td>\n      <td>63.2</td>\n      <td>73.3</td>\n      <td>69.3</td>\n      <td>62.6</td>\n      <td>76.9</td>\n      <td>54.7</td>\n      <td>69.9</td>\n      <td>72.2</td>\n    </tr>\n    <tr>\n      <th>20</th>\n      <td>2006</td>\n      <td>82.3</td>\n      <td>67.2</td>\n      <td>77.5</td>\n      <td>73.4</td>\n      <td>86.4</td>\n      <td>83.4</td>\n      <td>67.1</td>\n      <td>74.3</td>\n      <td>77</td>\n    </tr>\n    <tr>\n      <th>24</th>\n      <td>2007</td>\n      <td>85.2</td>\n      <td>76</td>\n      <td>89</td>\n      <td>81.9</td>\n      <td>97.7</td>\n      <td>89.6</td>\n      <td>74.1</td>\n      <td>82</td>\n      <td>84.1</td>\n    </tr>\n    <tr>\n      <th>28</th>\n      <td>2008</td>\n      <td>87.3</td>\n      <td>85.5</td>\n      <td>101.3</td>\n      <td>93.8</td>\n      <td>97.6</td>\n      <td>95.2</td>\n      <td>78.5</td>\n      <td>87.7</td>\n      <td>90</td>\n    </tr>\n    <tr>\n      <th>32</th>\n      <td>2009</td>\n      <td>87.5</td>\n      <td>86.9</td>\n      <td>98.8</td>\n      <td>95.8</td>\n      <td>95.1</td>\n      <td>96.4</td>\n      <td>89</td>\n      <td>88.7</td>\n      <td>90.2</td>\n    </tr>\n    <tr>\n      <th>36</th>\n      <td>2010</td>\n      <td>101.4</td>\n      <td>106.2</td>\n      <td>107</td>\n      <td>104.7</td>\n      <td>106.6</td>\n      <td>103.6</td>\n      <td>100.9</td>\n      <td>101.6</td>\n      <td>104.3</td>\n    </tr>\n    <tr>\n      <th>40</th>\n      <td>2011</td>\n      <td>101.4</td>\n      <td>103.5</td>\n      <td>102.5</td>\n      <td>101</td>\n      <td>100.2</td>\n      <td>102.9</td>\n      <td>96.5</td>\n      <td>101.9</td>\n      <td>102</td>\n    </tr>\n    <tr>\n      <th>44</th>\n      <td>2012</td>\n      <td>101.4</td>\n      <td>99.3</td>\n      <td>99.9</td>\n      <td>99.6</td>\n      <td>101</td>\n      <td>98.2</td>\n      <td>104.1</td>\n      <td>99.5</td>\n      <td>100.4</td>\n    </tr>\n    <tr>\n      <th>48</th>\n      <td>2013</td>\n      <td>108.7</td>\n      <td>102.7</td>\n      <td>103.2</td>\n      <td>100.9</td>\n      <td>110.6</td>\n      <td>100</td>\n      <td>111</td>\n      <td>101</td>\n      <td>105.7</td>\n    </tr>\n    <tr>\n      <th>52</th>\n      <td>2014</td>\n      <td>126</td>\n      <td>112.1</td>\n      <td>110.5</td>\n      <td>105.6</td>\n      <td>114.8</td>\n      <td>104.1</td>\n      <td>114.7</td>\n      <td>103.3</td>\n      <td>116.4</td>\n    </tr>\n    <tr>\n      <th>56</th>\n      <td>2015</td>\n      <td>149.8</td>\n      <td>120.8</td>\n      <td>113.7</td>\n      <td>108.5</td>\n      <td>113.4</td>\n      <td>105.7</td>\n      <td>112.6</td>\n      <td>106.2</td>\n      <td>127.8</td>\n    </tr>\n    <tr>\n      <th>60</th>\n      <td>2016</td>\n      <td>155.2</td>\n      <td>130.7</td>\n      <td>118.6</td>\n      <td>112.3</td>\n      <td>108</td>\n      <td>110.9</td>\n      <td>105.3</td>\n      <td>112.6</td>\n      <td>133</td>\n    </tr>\n    <tr>\n      <th>64</th>\n      <td>2017</td>\n      <td>176.6</td>\n      <td>148.7</td>\n      <td>122.1</td>\n      <td>117.9</td>\n      <td>104.7</td>\n      <td>124.7</td>\n      <td>100.1</td>\n      <td>121.5</td>\n      <td>146.5</td>\n    </tr>\n    <tr>\n      <th>68</th>\n      <td>2018</td>\n      <td>169.8</td>\n      <td>152.1</td>\n      <td>124.2</td>\n      <td>120.4</td>\n      <td>103.8</td>\n      <td>144</td>\n      <td>94</td>\n      <td>125.2</td>\n      <td>145.6</td>\n    </tr>\n    <tr>\n      <th>72</th>\n      <td>2019</td>\n      <td>153.5</td>\n      <td>137.9</td>\n      <td>120.9</td>\n      <td>120.3</td>\n      <td>99.7</td>\n      <td>146.9</td>\n      <td>89.3</td>\n      <td>124.7</td>\n      <td>134.8</td>\n    </tr>\n    <tr>\n      <th>76</th>\n      <td>2020</td>\n      <td>165.9</td>\n      <td>150</td>\n      <td>123.7</td>\n      <td>121.1</td>\n      <td>99.5</td>\n      <td>155.8</td>\n      <td>86.9</td>\n      <td>129.2</td>\n      <td>143.2</td>\n    </tr>\n  </tbody>\n</table>\n</div>"
     },
     "metadata": {},
     "execution_count": 65
    }
   ],
   "source": [
    "# Convert dates to financial year\n",
    "fy_df['FY'] = fy_df['FY'].map(lambda x: x.year if x.month > 3 else x.year-1)\n",
    "fy_df"
   ]
  },
  {
   "cell_type": "code",
   "execution_count": 66,
   "metadata": {},
   "outputs": [],
   "source": [
    "# Set FY as index\n",
    "idx = ['FY']\n",
    "final_PPI_df = fy_df.set_index(idx)"
   ]
  },
  {
   "cell_type": "code",
   "execution_count": 69,
   "metadata": {},
   "outputs": [
    {
     "output_type": "execute_result",
     "data": {
      "text/plain": [
       "'{\"2005\":{\"Sydney\":82.6,\"Melbourne\":63.2,\"Brisbane\":73.3,\"Adelaide\":69.3,\"Perth\":62.6,\"Hobart\":76.9,\"Darwin\":54.7,\"Canberra\":69.9,\"Weighted Average\":72.2},\"2006\":{\"Sydney\":82.3,\"Melbourne\":67.2,\"Brisbane\":77.5,\"Adelaide\":73.4,\"Perth\":86.4,\"Hobart\":83.4,\"Darwin\":67.1,\"Canberra\":74.3,\"Weighted Average\":77},\"2007\":{\"Sydney\":85.2,\"Melbourne\":76,\"Brisbane\":89,\"Adelaide\":81.9,\"Perth\":97.7,\"Hobart\":89.6,\"Darwin\":74.1,\"Canberra\":82,\"Weighted Average\":84.1},\"2008\":{\"Sydney\":87.3,\"Melbourne\":85.5,\"Brisbane\":101.3,\"Adelaide\":93.8,\"Perth\":97.6,\"Hobart\":95.2,\"Darwin\":78.5,\"Canberra\":87.7,\"Weighted Average\":90},\"2009\":{\"Sydney\":87.5,\"Melbourne\":86.9,\"Brisbane\":98.8,\"Adelaide\":95.8,\"Perth\":95.1,\"Hobart\":96.4,\"Darwin\":89,\"Canberra\":88.7,\"Weighted Average\":90.2},\"2010\":{\"Sydney\":101.4,\"Melbourne\":106.2,\"Brisbane\":107,\"Adelaide\":104.7,\"Perth\":106.6,\"Hobart\":103.6,\"Darwin\":100.9,\"Canberra\":101.6,\"Weighted Average\":104.3},\"2011\":{\"Sydney\":101.4,\"Melbourne\":103.5,\"Brisbane\":102.5,\"Adelaide\":101,\"Perth\":100.2,\"Hobart\":102.9,\"Darwin\":96.5,\"Canberra\":101.9,\"Weighted Average\":102},\"2012\":{\"Sydney\":101.4,\"Melbourne\":99.3,\"Brisbane\":99.9,\"Adelaide\":99.6,\"Perth\":101,\"Hobart\":98.2,\"Darwin\":104.1,\"Canberra\":99.5,\"Weighted Average\":100.4},\"2013\":{\"Sydney\":108.7,\"Melbourne\":102.7,\"Brisbane\":103.2,\"Adelaide\":100.9,\"Perth\":110.6,\"Hobart\":100,\"Darwin\":111,\"Canberra\":101,\"Weighted Average\":105.7},\"2014\":{\"Sydney\":126,\"Melbourne\":112.1,\"Brisbane\":110.5,\"Adelaide\":105.6,\"Perth\":114.8,\"Hobart\":104.1,\"Darwin\":114.7,\"Canberra\":103.3,\"Weighted Average\":116.4},\"2015\":{\"Sydney\":149.8,\"Melbourne\":120.8,\"Brisbane\":113.7,\"Adelaide\":108.5,\"Perth\":113.4,\"Hobart\":105.7,\"Darwin\":112.6,\"Canberra\":106.2,\"Weighted Average\":127.8},\"2016\":{\"Sydney\":155.2,\"Melbourne\":130.7,\"Brisbane\":118.6,\"Adelaide\":112.3,\"Perth\":108,\"Hobart\":110.9,\"Darwin\":105.3,\"Canberra\":112.6,\"Weighted Average\":133},\"2017\":{\"Sydney\":176.6,\"Melbourne\":148.7,\"Brisbane\":122.1,\"Adelaide\":117.9,\"Perth\":104.7,\"Hobart\":124.7,\"Darwin\":100.1,\"Canberra\":121.5,\"Weighted Average\":146.5},\"2018\":{\"Sydney\":169.8,\"Melbourne\":152.1,\"Brisbane\":124.2,\"Adelaide\":120.4,\"Perth\":103.8,\"Hobart\":144,\"Darwin\":94,\"Canberra\":125.2,\"Weighted Average\":145.6},\"2019\":{\"Sydney\":153.5,\"Melbourne\":137.9,\"Brisbane\":120.9,\"Adelaide\":120.3,\"Perth\":99.7,\"Hobart\":146.9,\"Darwin\":89.3,\"Canberra\":124.7,\"Weighted Average\":134.8},\"2020\":{\"Sydney\":165.9,\"Melbourne\":150,\"Brisbane\":123.7,\"Adelaide\":121.1,\"Perth\":99.5,\"Hobart\":155.8,\"Darwin\":86.9,\"Canberra\":129.2,\"Weighted Average\":143.2}}'"
      ]
     },
     "metadata": {},
     "execution_count": 69
    }
   ],
   "source": [
    "#\n",
    "d = final_PPI_df.to_json(orient='index')\n",
    "d"
   ]
  },
  {
   "cell_type": "code",
   "execution_count": 70,
   "metadata": {},
   "outputs": [
    {
     "output_type": "stream",
     "name": "stdout",
     "text": [
      "{'2005': {'Sydney': 82.6, 'Melbourne': 63.2, 'Brisbane': 73.3, 'Adelaide': 69.3, 'Perth': 62.6, 'Hobart': 76.9, 'Darwin': 54.7, 'Canberra': 69.9, 'Weighted Average': 72.2}, '2006': {'Sydney': 82.3, 'Melbourne': 67.2, 'Brisbane': 77.5, 'Adelaide': 73.4, 'Perth': 86.4, 'Hobart': 83.4, 'Darwin': 67.1, 'Canberra': 74.3, 'Weighted Average': 77}, '2007': {'Sydney': 85.2, 'Melbourne': 76, 'Brisbane': 89, 'Adelaide': 81.9, 'Perth': 97.7, 'Hobart': 89.6, 'Darwin': 74.1, 'Canberra': 82, 'Weighted Average': 84.1}, '2008': {'Sydney': 87.3, 'Melbourne': 85.5, 'Brisbane': 101.3, 'Adelaide': 93.8, 'Perth': 97.6, 'Hobart': 95.2, 'Darwin': 78.5, 'Canberra': 87.7, 'Weighted Average': 90}, '2009': {'Sydney': 87.5, 'Melbourne': 86.9, 'Brisbane': 98.8, 'Adelaide': 95.8, 'Perth': 95.1, 'Hobart': 96.4, 'Darwin': 89, 'Canberra': 88.7, 'Weighted Average': 90.2}, '2010': {'Sydney': 101.4, 'Melbourne': 106.2, 'Brisbane': 107, 'Adelaide': 104.7, 'Perth': 106.6, 'Hobart': 103.6, 'Darwin': 100.9, 'Canberra': 101.6, 'Weighted Average': 104.3}, '2011': {'Sydney': 101.4, 'Melbourne': 103.5, 'Brisbane': 102.5, 'Adelaide': 101, 'Perth': 100.2, 'Hobart': 102.9, 'Darwin': 96.5, 'Canberra': 101.9, 'Weighted Average': 102}, '2012': {'Sydney': 101.4, 'Melbourne': 99.3, 'Brisbane': 99.9, 'Adelaide': 99.6, 'Perth': 101, 'Hobart': 98.2, 'Darwin': 104.1, 'Canberra': 99.5, 'Weighted Average': 100.4}, '2013': {'Sydney': 108.7, 'Melbourne': 102.7, 'Brisbane': 103.2, 'Adelaide': 100.9, 'Perth': 110.6, 'Hobart': 100, 'Darwin': 111, 'Canberra': 101, 'Weighted Average': 105.7}, '2014': {'Sydney': 126, 'Melbourne': 112.1, 'Brisbane': 110.5, 'Adelaide': 105.6, 'Perth': 114.8, 'Hobart': 104.1, 'Darwin': 114.7, 'Canberra': 103.3, 'Weighted Average': 116.4}, '2015': {'Sydney': 149.8, 'Melbourne': 120.8, 'Brisbane': 113.7, 'Adelaide': 108.5, 'Perth': 113.4, 'Hobart': 105.7, 'Darwin': 112.6, 'Canberra': 106.2, 'Weighted Average': 127.8}, '2016': {'Sydney': 155.2, 'Melbourne': 130.7, 'Brisbane': 118.6, 'Adelaide': 112.3, 'Perth': 108, 'Hobart': 110.9, 'Darwin': 105.3, 'Canberra': 112.6, 'Weighted Average': 133}, '2017': {'Sydney': 176.6, 'Melbourne': 148.7, 'Brisbane': 122.1, 'Adelaide': 117.9, 'Perth': 104.7, 'Hobart': 124.7, 'Darwin': 100.1, 'Canberra': 121.5, 'Weighted Average': 146.5}, '2018': {'Sydney': 169.8, 'Melbourne': 152.1, 'Brisbane': 124.2, 'Adelaide': 120.4, 'Perth': 103.8, 'Hobart': 144, 'Darwin': 94, 'Canberra': 125.2, 'Weighted Average': 145.6}, '2019': {'Sydney': 153.5, 'Melbourne': 137.9, 'Brisbane': 120.9, 'Adelaide': 120.3, 'Perth': 99.7, 'Hobart': 146.9, 'Darwin': 89.3, 'Canberra': 124.7, 'Weighted Average': 134.8}, '2020': {'Sydney': 165.9, 'Melbourne': 150, 'Brisbane': 123.7, 'Adelaide': 121.1, 'Perth': 99.5, 'Hobart': 155.8, 'Darwin': 86.9, 'Canberra': 129.2, 'Weighted Average': 143.2}}\n"
     ]
    }
   ],
   "source": [
    "data = json.loads(d)\n",
    "print(data)"
   ]
  },
  {
   "cell_type": "code",
   "execution_count": 71,
   "metadata": {},
   "outputs": [],
   "source": [
    "# Convert df to json\n",
    "json_data = final_PPI_df.to_json(\"/Users/nicksullivan/Desktop/Project-2/Data/PPI_data.json\", orient=\"records\")"
   ]
  },
  {
   "cell_type": "code",
   "execution_count": 49,
   "metadata": {},
   "outputs": [],
   "source": [
    "json_data = [{'data': list(value.values), 'FY': key} for key, value in final_PPI_df.items()]"
   ]
  },
  {
   "cell_type": "code",
   "execution_count": 50,
   "metadata": {},
   "outputs": [
    {
     "output_type": "execute_result",
     "data": {
      "text/plain": [
       "[{'data': [82.6,\n",
       "   82.3,\n",
       "   85.2,\n",
       "   87.3,\n",
       "   87.5,\n",
       "   101.4,\n",
       "   101.4,\n",
       "   101.4,\n",
       "   108.7,\n",
       "   126,\n",
       "   149.8,\n",
       "   155.2,\n",
       "   176.6,\n",
       "   169.8,\n",
       "   153.5,\n",
       "   165.9],\n",
       "  'FY': 'Sydney'},\n",
       " {'data': [63.2,\n",
       "   67.2,\n",
       "   76,\n",
       "   85.5,\n",
       "   86.9,\n",
       "   106.2,\n",
       "   103.5,\n",
       "   99.3,\n",
       "   102.7,\n",
       "   112.1,\n",
       "   120.8,\n",
       "   130.7,\n",
       "   148.7,\n",
       "   152.1,\n",
       "   137.9,\n",
       "   150],\n",
       "  'FY': 'Melbourne'},\n",
       " {'data': [73.3,\n",
       "   77.5,\n",
       "   89,\n",
       "   101.3,\n",
       "   98.8,\n",
       "   107,\n",
       "   102.5,\n",
       "   99.9,\n",
       "   103.2,\n",
       "   110.5,\n",
       "   113.7,\n",
       "   118.6,\n",
       "   122.1,\n",
       "   124.2,\n",
       "   120.9,\n",
       "   123.7],\n",
       "  'FY': 'Brisbane'},\n",
       " {'data': [69.3,\n",
       "   73.4,\n",
       "   81.9,\n",
       "   93.8,\n",
       "   95.8,\n",
       "   104.7,\n",
       "   101,\n",
       "   99.6,\n",
       "   100.9,\n",
       "   105.6,\n",
       "   108.5,\n",
       "   112.3,\n",
       "   117.9,\n",
       "   120.4,\n",
       "   120.3,\n",
       "   121.1],\n",
       "  'FY': 'Adelaide'},\n",
       " {'data': [62.6,\n",
       "   86.4,\n",
       "   97.7,\n",
       "   97.6,\n",
       "   95.1,\n",
       "   106.6,\n",
       "   100.2,\n",
       "   101,\n",
       "   110.6,\n",
       "   114.8,\n",
       "   113.4,\n",
       "   108,\n",
       "   104.7,\n",
       "   103.8,\n",
       "   99.7,\n",
       "   99.5],\n",
       "  'FY': 'Perth'},\n",
       " {'data': [76.9,\n",
       "   83.4,\n",
       "   89.6,\n",
       "   95.2,\n",
       "   96.4,\n",
       "   103.6,\n",
       "   102.9,\n",
       "   98.2,\n",
       "   100,\n",
       "   104.1,\n",
       "   105.7,\n",
       "   110.9,\n",
       "   124.7,\n",
       "   144,\n",
       "   146.9,\n",
       "   155.8],\n",
       "  'FY': 'Hobart'},\n",
       " {'data': [54.7,\n",
       "   67.1,\n",
       "   74.1,\n",
       "   78.5,\n",
       "   89,\n",
       "   100.9,\n",
       "   96.5,\n",
       "   104.1,\n",
       "   111,\n",
       "   114.7,\n",
       "   112.6,\n",
       "   105.3,\n",
       "   100.1,\n",
       "   94,\n",
       "   89.3,\n",
       "   86.9],\n",
       "  'FY': 'Darwin'},\n",
       " {'data': [69.9,\n",
       "   74.3,\n",
       "   82,\n",
       "   87.7,\n",
       "   88.7,\n",
       "   101.6,\n",
       "   101.9,\n",
       "   99.5,\n",
       "   101,\n",
       "   103.3,\n",
       "   106.2,\n",
       "   112.6,\n",
       "   121.5,\n",
       "   125.2,\n",
       "   124.7,\n",
       "   129.2],\n",
       "  'FY': 'Canberra'},\n",
       " {'data': [72.2,\n",
       "   77,\n",
       "   84.1,\n",
       "   90,\n",
       "   90.2,\n",
       "   104.3,\n",
       "   102,\n",
       "   100.4,\n",
       "   105.7,\n",
       "   116.4,\n",
       "   127.8,\n",
       "   133,\n",
       "   146.5,\n",
       "   145.6,\n",
       "   134.8,\n",
       "   143.2],\n",
       "  'FY': 'Weighted Average'}]"
      ]
     },
     "metadata": {},
     "execution_count": 50
    }
   ],
   "source": [
    "json_data"
   ]
  },
  {
   "cell_type": "code",
   "execution_count": null,
   "metadata": {},
   "outputs": [],
   "source": []
  }
 ]
}