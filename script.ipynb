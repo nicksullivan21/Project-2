{
 "metadata": {
  "language_info": {
   "codemirror_mode": {
    "name": "ipython",
    "version": 3
   },
   "file_extension": ".py",
   "mimetype": "text/x-python",
   "name": "python",
   "nbconvert_exporter": "python",
   "pygments_lexer": "ipython3",
   "version": "3.8.5"
  },
  "orig_nbformat": 2,
  "kernelspec": {
   "name": "python3",
   "display_name": "Python 3.8.5 64-bit ('base': conda)",
   "metadata": {
    "interpreter": {
     "hash": "344443636c3027c5042750c9c609acdda283a9c43681b128a8c1053e7ad2aa7d"
    }
   }
  }
 },
 "nbformat": 4,
 "nbformat_minor": 2,
 "cells": [
  {
   "cell_type": "code",
   "execution_count": 47,
   "metadata": {},
   "outputs": [],
   "source": [
    "# Dependencies\n",
    "import pandas as pd\n",
    "import numpy as np"
   ]
  },
  {
   "cell_type": "code",
   "execution_count": 48,
   "metadata": {},
   "outputs": [],
   "source": [
    "# Store filepath in a variable\n",
    "cityPPIdata = \"Data/ResidentialPropertyPriceData.xls\""
   ]
  },
  {
   "cell_type": "code",
   "execution_count": 49,
   "metadata": {},
   "outputs": [],
   "source": [
    "# Read data file with pandas library\n",
    "cityPPI_df = pd.read_excel(cityPPIdata, 'Data1')"
   ]
  },
  {
   "cell_type": "code",
   "execution_count": 50,
   "metadata": {},
   "outputs": [],
   "source": [
    "# Delete unnecessary rows / rows with null values\n",
    "cityPPI_df = cityPPI_df.drop(cityPPI_df.index[0:15])"
   ]
  },
  {
   "cell_type": "code",
   "execution_count": 51,
   "metadata": {},
   "outputs": [],
   "source": [
    "# Delete unnecessary columns\n",
    "cityPPI_df.drop(cityPPI_df.columns[9:28], axis=1, inplace=True)"
   ]
  },
  {
   "cell_type": "code",
   "execution_count": 52,
   "metadata": {},
   "outputs": [
    {
     "output_type": "stream",
     "name": "stdout",
     "text": [
      "<class 'pandas.core.frame.DataFrame'>\nInt64Index: 64 entries, 15 to 78\nData columns (total 9 columns):\n #   Column  Non-Null Count  Dtype \n---  ------  --------------  ----- \n 0   FY      64 non-null     object\n 1   NSW     64 non-null     object\n 2   VIC     64 non-null     object\n 3   QLD     64 non-null     object\n 4   SA      64 non-null     object\n 5   WA      64 non-null     object\n 6   TAS     64 non-null     object\n 7   NT      64 non-null     object\n 8   ACT     64 non-null     object\ndtypes: object(9)\nmemory usage: 5.0+ KB\n"
     ]
    }
   ],
   "source": [
    "# Rename columns\n",
    "new_columns = {cityPPI_df.columns[0]: 'FY',\n",
    "    cityPPI_df.columns[1]:'NSW',\n",
    "    cityPPI_df.columns[2]:'VIC',\n",
    "    cityPPI_df.columns[3]:'QLD',\n",
    "    cityPPI_df.columns[4]:'SA',\n",
    "    cityPPI_df.columns[5]:'WA',\n",
    "    cityPPI_df.columns[6]:'TAS',\n",
    "    cityPPI_df.columns[7]:'NT',\n",
    "    cityPPI_df.columns[8]:'ACT'}\n",
    "\n",
    "cityPPI_df.rename(columns=new_columns, inplace=True)\n",
    "\n",
    "cityPPI_df.info()\n"
   ]
  },
  {
   "cell_type": "code",
   "execution_count": 53,
   "metadata": {},
   "outputs": [],
   "source": [
    "# Convert Period to datetime format\n",
    "cityPPI_df['FY'] = cityPPI_df['FY'].apply(pd.to_datetime)"
   ]
  },
  {
   "cell_type": "code",
   "execution_count": 54,
   "metadata": {},
   "outputs": [],
   "source": [
    "# Select only PPI at end of FY\n",
    "fy_df = cityPPI_df[cityPPI_df.FY.dt.month == 6]"
   ]
  },
  {
   "cell_type": "code",
   "execution_count": 55,
   "metadata": {},
   "outputs": [
    {
     "output_type": "execute_result",
     "data": {
      "text/plain": [
       "      FY    NSW    VIC    QLD     SA     WA    TAS     NT    ACT\n",
       "16  2005   82.6   63.2   73.3   69.3   62.6   76.9   54.7   69.9\n",
       "20  2006   82.3   67.2   77.5   73.4   86.4   83.4   67.1   74.3\n",
       "24  2007   85.2     76     89   81.9   97.7   89.6   74.1     82\n",
       "28  2008   87.3   85.5  101.3   93.8   97.6   95.2   78.5   87.7\n",
       "32  2009   87.5   86.9   98.8   95.8   95.1   96.4     89   88.7\n",
       "36  2010  101.4  106.2    107  104.7  106.6  103.6  100.9  101.6\n",
       "40  2011  101.4  103.5  102.5    101  100.2  102.9   96.5  101.9\n",
       "44  2012  101.4   99.3   99.9   99.6    101   98.2  104.1   99.5\n",
       "48  2013  108.7  102.7  103.2  100.9  110.6    100    111    101\n",
       "52  2014    126  112.1  110.5  105.6  114.8  104.1  114.7  103.3\n",
       "56  2015  149.8  120.8  113.7  108.5  113.4  105.7  112.6  106.2\n",
       "60  2016  155.2  130.7  118.6  112.3    108  110.9  105.3  112.6\n",
       "64  2017  176.6  148.7  122.1  117.9  104.7  124.7  100.1  121.5\n",
       "68  2018  169.8  152.1  124.2  120.4  103.8    144     94  125.2\n",
       "72  2019  153.5  137.9  120.9  120.3   99.7  146.9   89.3  124.7\n",
       "76  2020  165.9    150  123.7  121.1   99.5  155.8   86.9  129.2"
      ],
      "text/html": "<div>\n<style scoped>\n    .dataframe tbody tr th:only-of-type {\n        vertical-align: middle;\n    }\n\n    .dataframe tbody tr th {\n        vertical-align: top;\n    }\n\n    .dataframe thead th {\n        text-align: right;\n    }\n</style>\n<table border=\"1\" class=\"dataframe\">\n  <thead>\n    <tr style=\"text-align: right;\">\n      <th></th>\n      <th>FY</th>\n      <th>NSW</th>\n      <th>VIC</th>\n      <th>QLD</th>\n      <th>SA</th>\n      <th>WA</th>\n      <th>TAS</th>\n      <th>NT</th>\n      <th>ACT</th>\n    </tr>\n  </thead>\n  <tbody>\n    <tr>\n      <th>16</th>\n      <td>2005</td>\n      <td>82.6</td>\n      <td>63.2</td>\n      <td>73.3</td>\n      <td>69.3</td>\n      <td>62.6</td>\n      <td>76.9</td>\n      <td>54.7</td>\n      <td>69.9</td>\n    </tr>\n    <tr>\n      <th>20</th>\n      <td>2006</td>\n      <td>82.3</td>\n      <td>67.2</td>\n      <td>77.5</td>\n      <td>73.4</td>\n      <td>86.4</td>\n      <td>83.4</td>\n      <td>67.1</td>\n      <td>74.3</td>\n    </tr>\n    <tr>\n      <th>24</th>\n      <td>2007</td>\n      <td>85.2</td>\n      <td>76</td>\n      <td>89</td>\n      <td>81.9</td>\n      <td>97.7</td>\n      <td>89.6</td>\n      <td>74.1</td>\n      <td>82</td>\n    </tr>\n    <tr>\n      <th>28</th>\n      <td>2008</td>\n      <td>87.3</td>\n      <td>85.5</td>\n      <td>101.3</td>\n      <td>93.8</td>\n      <td>97.6</td>\n      <td>95.2</td>\n      <td>78.5</td>\n      <td>87.7</td>\n    </tr>\n    <tr>\n      <th>32</th>\n      <td>2009</td>\n      <td>87.5</td>\n      <td>86.9</td>\n      <td>98.8</td>\n      <td>95.8</td>\n      <td>95.1</td>\n      <td>96.4</td>\n      <td>89</td>\n      <td>88.7</td>\n    </tr>\n    <tr>\n      <th>36</th>\n      <td>2010</td>\n      <td>101.4</td>\n      <td>106.2</td>\n      <td>107</td>\n      <td>104.7</td>\n      <td>106.6</td>\n      <td>103.6</td>\n      <td>100.9</td>\n      <td>101.6</td>\n    </tr>\n    <tr>\n      <th>40</th>\n      <td>2011</td>\n      <td>101.4</td>\n      <td>103.5</td>\n      <td>102.5</td>\n      <td>101</td>\n      <td>100.2</td>\n      <td>102.9</td>\n      <td>96.5</td>\n      <td>101.9</td>\n    </tr>\n    <tr>\n      <th>44</th>\n      <td>2012</td>\n      <td>101.4</td>\n      <td>99.3</td>\n      <td>99.9</td>\n      <td>99.6</td>\n      <td>101</td>\n      <td>98.2</td>\n      <td>104.1</td>\n      <td>99.5</td>\n    </tr>\n    <tr>\n      <th>48</th>\n      <td>2013</td>\n      <td>108.7</td>\n      <td>102.7</td>\n      <td>103.2</td>\n      <td>100.9</td>\n      <td>110.6</td>\n      <td>100</td>\n      <td>111</td>\n      <td>101</td>\n    </tr>\n    <tr>\n      <th>52</th>\n      <td>2014</td>\n      <td>126</td>\n      <td>112.1</td>\n      <td>110.5</td>\n      <td>105.6</td>\n      <td>114.8</td>\n      <td>104.1</td>\n      <td>114.7</td>\n      <td>103.3</td>\n    </tr>\n    <tr>\n      <th>56</th>\n      <td>2015</td>\n      <td>149.8</td>\n      <td>120.8</td>\n      <td>113.7</td>\n      <td>108.5</td>\n      <td>113.4</td>\n      <td>105.7</td>\n      <td>112.6</td>\n      <td>106.2</td>\n    </tr>\n    <tr>\n      <th>60</th>\n      <td>2016</td>\n      <td>155.2</td>\n      <td>130.7</td>\n      <td>118.6</td>\n      <td>112.3</td>\n      <td>108</td>\n      <td>110.9</td>\n      <td>105.3</td>\n      <td>112.6</td>\n    </tr>\n    <tr>\n      <th>64</th>\n      <td>2017</td>\n      <td>176.6</td>\n      <td>148.7</td>\n      <td>122.1</td>\n      <td>117.9</td>\n      <td>104.7</td>\n      <td>124.7</td>\n      <td>100.1</td>\n      <td>121.5</td>\n    </tr>\n    <tr>\n      <th>68</th>\n      <td>2018</td>\n      <td>169.8</td>\n      <td>152.1</td>\n      <td>124.2</td>\n      <td>120.4</td>\n      <td>103.8</td>\n      <td>144</td>\n      <td>94</td>\n      <td>125.2</td>\n    </tr>\n    <tr>\n      <th>72</th>\n      <td>2019</td>\n      <td>153.5</td>\n      <td>137.9</td>\n      <td>120.9</td>\n      <td>120.3</td>\n      <td>99.7</td>\n      <td>146.9</td>\n      <td>89.3</td>\n      <td>124.7</td>\n    </tr>\n    <tr>\n      <th>76</th>\n      <td>2020</td>\n      <td>165.9</td>\n      <td>150</td>\n      <td>123.7</td>\n      <td>121.1</td>\n      <td>99.5</td>\n      <td>155.8</td>\n      <td>86.9</td>\n      <td>129.2</td>\n    </tr>\n  </tbody>\n</table>\n</div>"
     },
     "metadata": {},
     "execution_count": 55
    }
   ],
   "source": [
    "# Convert dates to financial year\n",
    "fy_df['FY'] = fy_df['FY'].map(lambda x: x.year if x.month > 3 else x.year-1)\n",
    "fy_df"
   ]
  },
  {
   "cell_type": "code",
   "execution_count": 56,
   "metadata": {},
   "outputs": [
    {
     "output_type": "execute_result",
     "data": {
      "text/plain": [
       "       FY level_1      0\n",
       "0    2005     NSW   82.6\n",
       "1    2005     VIC   63.2\n",
       "2    2005     QLD   73.3\n",
       "3    2005      SA   69.3\n",
       "4    2005      WA   62.6\n",
       "..    ...     ...    ...\n",
       "123  2020      SA  121.1\n",
       "124  2020      WA   99.5\n",
       "125  2020     TAS  155.8\n",
       "126  2020      NT   86.9\n",
       "127  2020     ACT  129.2\n",
       "\n",
       "[128 rows x 3 columns]"
      ],
      "text/html": "<div>\n<style scoped>\n    .dataframe tbody tr th:only-of-type {\n        vertical-align: middle;\n    }\n\n    .dataframe tbody tr th {\n        vertical-align: top;\n    }\n\n    .dataframe thead th {\n        text-align: right;\n    }\n</style>\n<table border=\"1\" class=\"dataframe\">\n  <thead>\n    <tr style=\"text-align: right;\">\n      <th></th>\n      <th>FY</th>\n      <th>level_1</th>\n      <th>0</th>\n    </tr>\n  </thead>\n  <tbody>\n    <tr>\n      <th>0</th>\n      <td>2005</td>\n      <td>NSW</td>\n      <td>82.6</td>\n    </tr>\n    <tr>\n      <th>1</th>\n      <td>2005</td>\n      <td>VIC</td>\n      <td>63.2</td>\n    </tr>\n    <tr>\n      <th>2</th>\n      <td>2005</td>\n      <td>QLD</td>\n      <td>73.3</td>\n    </tr>\n    <tr>\n      <th>3</th>\n      <td>2005</td>\n      <td>SA</td>\n      <td>69.3</td>\n    </tr>\n    <tr>\n      <th>4</th>\n      <td>2005</td>\n      <td>WA</td>\n      <td>62.6</td>\n    </tr>\n    <tr>\n      <th>...</th>\n      <td>...</td>\n      <td>...</td>\n      <td>...</td>\n    </tr>\n    <tr>\n      <th>123</th>\n      <td>2020</td>\n      <td>SA</td>\n      <td>121.1</td>\n    </tr>\n    <tr>\n      <th>124</th>\n      <td>2020</td>\n      <td>WA</td>\n      <td>99.5</td>\n    </tr>\n    <tr>\n      <th>125</th>\n      <td>2020</td>\n      <td>TAS</td>\n      <td>155.8</td>\n    </tr>\n    <tr>\n      <th>126</th>\n      <td>2020</td>\n      <td>NT</td>\n      <td>86.9</td>\n    </tr>\n    <tr>\n      <th>127</th>\n      <td>2020</td>\n      <td>ACT</td>\n      <td>129.2</td>\n    </tr>\n  </tbody>\n</table>\n<p>128 rows × 3 columns</p>\n</div>"
     },
     "metadata": {},
     "execution_count": 56
    }
   ],
   "source": [
    "# Reshape data from wide to long\n",
    "idx = ['FY']\n",
    "multi_indexed_df = fy_df.set_index(idx)\n",
    "stacked_df = multi_indexed_df.stack(dropna=False)\n",
    "final_df = stacked_df.reset_index()\n",
    "final_df"
   ]
  },
  {
   "cell_type": "code",
   "execution_count": 57,
   "metadata": {},
   "outputs": [],
   "source": [
    "# Rename columns\n",
    "final_df = final_df.rename(columns={'level_1':'State',0:'PPI'})"
   ]
  },
  {
   "source": [
    "## Create Unemployment Dataframe"
   ],
   "cell_type": "markdown",
   "metadata": {}
  },
  {
   "cell_type": "code",
   "execution_count": 107,
   "metadata": {},
   "outputs": [],
   "source": [
    "# Store filepath in a variable\n",
    "unemploymentData = \"Data/UnemploymentData.xls\""
   ]
  },
  {
   "cell_type": "code",
   "execution_count": 108,
   "metadata": {},
   "outputs": [],
   "source": [
    "# Read data file with pandas library\n",
    "unemployment_df = pd.read_excel(unemploymentData, 'Data2')"
   ]
  },
  {
   "cell_type": "code",
   "execution_count": 109,
   "metadata": {},
   "outputs": [],
   "source": [
    "# Delete unnecessary rows / rows with null values\n",
    "unemployment_df = unemployment_df.drop(unemployment_df.index[0:316])"
   ]
  },
  {
   "cell_type": "code",
   "execution_count": 110,
   "metadata": {},
   "outputs": [],
   "source": [
    "# Delete unnecessary columns\n",
    "unemployment_df.drop(unemployment_df.columns[1:153], axis=1, inplace=True)"
   ]
  },
  {
   "cell_type": "code",
   "execution_count": 111,
   "metadata": {},
   "outputs": [],
   "source": [
    "unemployment_df.drop(unemployment_df.columns[23:200], axis=1, inplace=True)"
   ]
  },
  {
   "cell_type": "code",
   "execution_count": 112,
   "metadata": {},
   "outputs": [],
   "source": [
    "unemployment_df.drop(unemployment_df.columns[[1,2,4,5,7,8,10,11,13,14,16,17,19,21]], axis=1, inplace=True)"
   ]
  },
  {
   "cell_type": "code",
   "execution_count": 113,
   "metadata": {},
   "outputs": [
    {
     "output_type": "execute_result",
     "data": {
      "text/plain": [
       "              Unnamed: 0  \\\n",
       "316  2003-09-01 00:00:00   \n",
       "317  2003-10-01 00:00:00   \n",
       "318  2003-11-01 00:00:00   \n",
       "319  2003-12-01 00:00:00   \n",
       "320  2004-01-01 00:00:00   \n",
       "..                   ...   \n",
       "522  2020-11-01 00:00:00   \n",
       "523  2020-12-01 00:00:00   \n",
       "524  2021-01-01 00:00:00   \n",
       "525  2021-02-01 00:00:00   \n",
       "526  2021-03-01 00:00:00   \n",
       "\n",
       "    Unemployment rate ;  Persons ;  > New South Wales ;.2  \\\n",
       "316                                            5.66337      \n",
       "317                                            5.24099      \n",
       "318                                            5.28068      \n",
       "319                                            5.25987      \n",
       "320                                             5.7128      \n",
       "..                                                 ...      \n",
       "522                                            5.99723      \n",
       "523                                            6.15967      \n",
       "524                                            6.41736      \n",
       "525                                            6.01189      \n",
       "526                                            5.71532      \n",
       "\n",
       "    Unemployment rate ;  Persons ;  > Victoria ;.2  \\\n",
       "316                                        5.43815   \n",
       "317                                        5.27893   \n",
       "318                                        4.79022   \n",
       "319                                         5.5164   \n",
       "320                                        5.84673   \n",
       "..                                             ...   \n",
       "522                                        6.69187   \n",
       "523                                        6.29833   \n",
       "524                                        6.88494   \n",
       "525                                        6.15485   \n",
       "526                                        6.35616   \n",
       "\n",
       "    Unemployment rate ;  Persons ;  > Queensland ;.2  \\\n",
       "316                                          6.13739   \n",
       "317                                          5.73718   \n",
       "318                                          5.38298   \n",
       "319                                          5.92363   \n",
       "320                                          6.58643   \n",
       "..                                               ...   \n",
       "522                                          6.85042   \n",
       "523                                          6.88578   \n",
       "524                                          7.53505   \n",
       "525                                          6.66672   \n",
       "526                                          6.29261   \n",
       "\n",
       "    Unemployment rate ;  Persons ;  > South Australia ;.2  \\\n",
       "316                                            5.98724      \n",
       "317                                            5.88938      \n",
       "318                                            5.82951      \n",
       "319                                            6.17233      \n",
       "320                                            6.94385      \n",
       "..                                                 ...      \n",
       "522                                             6.1248      \n",
       "523                                            6.16308      \n",
       "524                                            7.54105      \n",
       "525                                            7.26357      \n",
       "526                                            6.60492      \n",
       "\n",
       "    Unemployment rate ;  Persons ;  > Western Australia ;.2  \\\n",
       "316                                            6.20121        \n",
       "317                                            5.65508        \n",
       "318                                            5.71087        \n",
       "319                                            5.61773        \n",
       "320                                            6.33345        \n",
       "..                                                 ...        \n",
       "522                                            6.11391        \n",
       "523                                            6.10253        \n",
       "524                                             6.8879        \n",
       "525                                            6.45086        \n",
       "526                                             5.2644        \n",
       "\n",
       "    Unemployment rate ;  Persons ;  > Tasmania ;.2  \\\n",
       "316                                        7.49899   \n",
       "317                                        7.04182   \n",
       "318                                        6.96217   \n",
       "319                                        6.46808   \n",
       "320                                        6.53629   \n",
       "..                                             ...   \n",
       "522                                        7.47476   \n",
       "523                                        6.92065   \n",
       "524                                         6.2283   \n",
       "525                                        5.90915   \n",
       "526                                        6.00127   \n",
       "\n",
       "    Unemployment rate ;  Persons ;  > Northern Territory ;.1  \\\n",
       "316                                            6.63928         \n",
       "317                                            5.66896         \n",
       "318                                            4.34965         \n",
       "319                                            5.16009         \n",
       "320                                            5.35706         \n",
       "..                                                 ...         \n",
       "522                                            6.13714         \n",
       "523                                            4.84097         \n",
       "524                                            5.97513         \n",
       "525                                            5.14282         \n",
       "526                                            5.75411         \n",
       "\n",
       "    Unemployment rate ;  Persons ;  > Australian Capital Territory ;.1  \n",
       "316                                            3.96879                  \n",
       "317                                            3.35032                  \n",
       "318                                            3.44659                  \n",
       "319                                            3.88137                  \n",
       "320                                            4.09295                  \n",
       "..                                                 ...                  \n",
       "522                                            3.61866                  \n",
       "523                                            3.58333                  \n",
       "524                                            4.80504                  \n",
       "525                                            4.81022                  \n",
       "526                                            3.81416                  \n",
       "\n",
       "[211 rows x 9 columns]"
      ],
      "text/html": "<div>\n<style scoped>\n    .dataframe tbody tr th:only-of-type {\n        vertical-align: middle;\n    }\n\n    .dataframe tbody tr th {\n        vertical-align: top;\n    }\n\n    .dataframe thead th {\n        text-align: right;\n    }\n</style>\n<table border=\"1\" class=\"dataframe\">\n  <thead>\n    <tr style=\"text-align: right;\">\n      <th></th>\n      <th>Unnamed: 0</th>\n      <th>Unemployment rate ;  Persons ;  &gt; New South Wales ;.2</th>\n      <th>Unemployment rate ;  Persons ;  &gt; Victoria ;.2</th>\n      <th>Unemployment rate ;  Persons ;  &gt; Queensland ;.2</th>\n      <th>Unemployment rate ;  Persons ;  &gt; South Australia ;.2</th>\n      <th>Unemployment rate ;  Persons ;  &gt; Western Australia ;.2</th>\n      <th>Unemployment rate ;  Persons ;  &gt; Tasmania ;.2</th>\n      <th>Unemployment rate ;  Persons ;  &gt; Northern Territory ;.1</th>\n      <th>Unemployment rate ;  Persons ;  &gt; Australian Capital Territory ;.1</th>\n    </tr>\n  </thead>\n  <tbody>\n    <tr>\n      <th>316</th>\n      <td>2003-09-01 00:00:00</td>\n      <td>5.66337</td>\n      <td>5.43815</td>\n      <td>6.13739</td>\n      <td>5.98724</td>\n      <td>6.20121</td>\n      <td>7.49899</td>\n      <td>6.63928</td>\n      <td>3.96879</td>\n    </tr>\n    <tr>\n      <th>317</th>\n      <td>2003-10-01 00:00:00</td>\n      <td>5.24099</td>\n      <td>5.27893</td>\n      <td>5.73718</td>\n      <td>5.88938</td>\n      <td>5.65508</td>\n      <td>7.04182</td>\n      <td>5.66896</td>\n      <td>3.35032</td>\n    </tr>\n    <tr>\n      <th>318</th>\n      <td>2003-11-01 00:00:00</td>\n      <td>5.28068</td>\n      <td>4.79022</td>\n      <td>5.38298</td>\n      <td>5.82951</td>\n      <td>5.71087</td>\n      <td>6.96217</td>\n      <td>4.34965</td>\n      <td>3.44659</td>\n    </tr>\n    <tr>\n      <th>319</th>\n      <td>2003-12-01 00:00:00</td>\n      <td>5.25987</td>\n      <td>5.5164</td>\n      <td>5.92363</td>\n      <td>6.17233</td>\n      <td>5.61773</td>\n      <td>6.46808</td>\n      <td>5.16009</td>\n      <td>3.88137</td>\n    </tr>\n    <tr>\n      <th>320</th>\n      <td>2004-01-01 00:00:00</td>\n      <td>5.7128</td>\n      <td>5.84673</td>\n      <td>6.58643</td>\n      <td>6.94385</td>\n      <td>6.33345</td>\n      <td>6.53629</td>\n      <td>5.35706</td>\n      <td>4.09295</td>\n    </tr>\n    <tr>\n      <th>...</th>\n      <td>...</td>\n      <td>...</td>\n      <td>...</td>\n      <td>...</td>\n      <td>...</td>\n      <td>...</td>\n      <td>...</td>\n      <td>...</td>\n      <td>...</td>\n    </tr>\n    <tr>\n      <th>522</th>\n      <td>2020-11-01 00:00:00</td>\n      <td>5.99723</td>\n      <td>6.69187</td>\n      <td>6.85042</td>\n      <td>6.1248</td>\n      <td>6.11391</td>\n      <td>7.47476</td>\n      <td>6.13714</td>\n      <td>3.61866</td>\n    </tr>\n    <tr>\n      <th>523</th>\n      <td>2020-12-01 00:00:00</td>\n      <td>6.15967</td>\n      <td>6.29833</td>\n      <td>6.88578</td>\n      <td>6.16308</td>\n      <td>6.10253</td>\n      <td>6.92065</td>\n      <td>4.84097</td>\n      <td>3.58333</td>\n    </tr>\n    <tr>\n      <th>524</th>\n      <td>2021-01-01 00:00:00</td>\n      <td>6.41736</td>\n      <td>6.88494</td>\n      <td>7.53505</td>\n      <td>7.54105</td>\n      <td>6.8879</td>\n      <td>6.2283</td>\n      <td>5.97513</td>\n      <td>4.80504</td>\n    </tr>\n    <tr>\n      <th>525</th>\n      <td>2021-02-01 00:00:00</td>\n      <td>6.01189</td>\n      <td>6.15485</td>\n      <td>6.66672</td>\n      <td>7.26357</td>\n      <td>6.45086</td>\n      <td>5.90915</td>\n      <td>5.14282</td>\n      <td>4.81022</td>\n    </tr>\n    <tr>\n      <th>526</th>\n      <td>2021-03-01 00:00:00</td>\n      <td>5.71532</td>\n      <td>6.35616</td>\n      <td>6.29261</td>\n      <td>6.60492</td>\n      <td>5.2644</td>\n      <td>6.00127</td>\n      <td>5.75411</td>\n      <td>3.81416</td>\n    </tr>\n  </tbody>\n</table>\n<p>211 rows × 9 columns</p>\n</div>"
     },
     "metadata": {},
     "execution_count": 113
    }
   ],
   "source": [
    "unemployment_df"
   ]
  },
  {
   "cell_type": "code",
   "execution_count": null,
   "metadata": {},
   "outputs": [],
   "source": []
  }
 ]
}