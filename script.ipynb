{
 "metadata": {
  "language_info": {
   "codemirror_mode": {
    "name": "ipython",
    "version": 3
   },
   "file_extension": ".py",
   "mimetype": "text/x-python",
   "name": "python",
   "nbconvert_exporter": "python",
   "pygments_lexer": "ipython3",
   "version": "3.8.5"
  },
  "orig_nbformat": 2,
  "kernelspec": {
   "name": "python3",
   "display_name": "Python 3.8.5 64-bit ('base': conda)",
   "metadata": {
    "interpreter": {
     "hash": "344443636c3027c5042750c9c609acdda283a9c43681b128a8c1053e7ad2aa7d"
    }
   }
  }
 },
 "nbformat": 4,
 "nbformat_minor": 2,
 "cells": [
  {
   "cell_type": "code",
   "execution_count": 129,
   "metadata": {},
   "outputs": [],
   "source": [
    "# Dependencies\n",
    "import pandas as pd\n",
    "import numpy as np"
   ]
  },
  {
   "cell_type": "code",
   "execution_count": 130,
   "metadata": {},
   "outputs": [],
   "source": [
    "# Store filepath in a variable\n",
    "cityPPIdata = \"Data/ResidentialPropertyPriceData.xls\""
   ]
  },
  {
   "cell_type": "code",
   "execution_count": 131,
   "metadata": {},
   "outputs": [],
   "source": [
    "# Read data file with pandas library\n",
    "cityPPI_df = pd.read_excel(cityPPIdata, 'Data1')"
   ]
  },
  {
   "cell_type": "code",
   "execution_count": 132,
   "metadata": {},
   "outputs": [],
   "source": [
    "# Delete unnecessary rows / rows with null values\n",
    "cityPPI_df = cityPPI_df.drop(cityPPI_df.index[0:15])"
   ]
  },
  {
   "cell_type": "code",
   "execution_count": 133,
   "metadata": {},
   "outputs": [],
   "source": [
    "# Delete unnecessary columns\n",
    "cityPPI_df.drop(cityPPI_df.columns[10:28], axis=1, inplace=True)"
   ]
  },
  {
   "cell_type": "code",
   "execution_count": 134,
   "metadata": {},
   "outputs": [
    {
     "output_type": "execute_result",
     "data": {
      "text/plain": [
       "             Unnamed: 0 Residential Property Price Index ;  Sydney ;  \\\n",
       "13  2004-09-01 00:00:00                                         84.2   \n",
       "14  2004-12-01 00:00:00                                         84.8   \n",
       "15  2005-03-01 00:00:00                                         83.2   \n",
       "16  2005-06-01 00:00:00                                         82.6   \n",
       "17  2005-09-01 00:00:00                                         81.4   \n",
       "..                  ...                                          ...   \n",
       "74  2019-12-01 00:00:00                                        166.4   \n",
       "75  2020-03-01 00:00:00                                        169.6   \n",
       "76  2020-06-01 00:00:00                                        165.9   \n",
       "77  2020-09-01 00:00:00                                        167.6   \n",
       "78  2020-12-01 00:00:00                                        172.6   \n",
       "\n",
       "   Residential Property Price Index ;  Melbourne ;  \\\n",
       "13                                            60.9   \n",
       "14                                            62.4   \n",
       "15                                            62.5   \n",
       "16                                            63.2   \n",
       "17                                            63.1   \n",
       "..                                             ...   \n",
       "74                                           150.4   \n",
       "75                                           153.5   \n",
       "76                                             150   \n",
       "77                                           149.6   \n",
       "78                                           154.7   \n",
       "\n",
       "   Residential Property Price Index ;  Brisbane ;  \\\n",
       "13                                           71.2   \n",
       "14                                             72   \n",
       "15                                           72.6   \n",
       "16                                           73.3   \n",
       "17                                           73.6   \n",
       "..                                            ...   \n",
       "74                                            124   \n",
       "75                                          124.8   \n",
       "76                                          123.7   \n",
       "77                                          125.6   \n",
       "78                                            129   \n",
       "\n",
       "   Residential Property Price Index ;  Adelaide ;  \\\n",
       "13                                           67.1   \n",
       "14                                           68.6   \n",
       "15                                           68.6   \n",
       "16                                           69.3   \n",
       "17                                             70   \n",
       "..                                            ...   \n",
       "74                                          121.6   \n",
       "75                                          122.1   \n",
       "76                                          121.1   \n",
       "77                                            123   \n",
       "78                                          126.2   \n",
       "\n",
       "   Residential Property Price Index ;  Perth ;  \\\n",
       "13                                        54.7   \n",
       "14                                        57.1   \n",
       "15                                        59.4   \n",
       "16                                        62.6   \n",
       "17                                        65.2   \n",
       "..                                         ...   \n",
       "74                                        99.6   \n",
       "75                                       100.2   \n",
       "76                                        99.5   \n",
       "77                                       100.9   \n",
       "78                                       103.8   \n",
       "\n",
       "   Residential Property Price Index ;  Hobart ;  \\\n",
       "13                                         72.3   \n",
       "14                                         74.6   \n",
       "15                                         75.8   \n",
       "16                                         76.9   \n",
       "17                                         76.7   \n",
       "..                                          ...   \n",
       "74                                        152.8   \n",
       "75                                        156.5   \n",
       "76                                        155.8   \n",
       "77                                        157.7   \n",
       "78                                        162.6   \n",
       "\n",
       "   Residential Property Price Index ;  Darwin ;  \\\n",
       "13                                         46.8   \n",
       "14                                         49.7   \n",
       "15                                         53.6   \n",
       "16                                         54.7   \n",
       "17                                         56.1   \n",
       "..                                          ...   \n",
       "74                                         87.5   \n",
       "75                                         88.1   \n",
       "76                                         86.9   \n",
       "77                                         87.6   \n",
       "78                                         89.5   \n",
       "\n",
       "   Residential Property Price Index ;  Canberra ;  \\\n",
       "13                                           68.6   \n",
       "14                                           69.7   \n",
       "15                                           70.3   \n",
       "16                                           69.9   \n",
       "17                                           70.1   \n",
       "..                                            ...   \n",
       "74                                            128   \n",
       "75                                          128.2   \n",
       "76                                          129.2   \n",
       "77                                          130.3   \n",
       "78                                          134.7   \n",
       "\n",
       "   Residential Property Price Index ;  Weighted average of eight capital cities ;  \n",
       "13                                               70.6                              \n",
       "14                                               71.8                              \n",
       "15                                               71.7                              \n",
       "16                                               72.2                              \n",
       "17                                               72.1                              \n",
       "..                                                ...                              \n",
       "74                                              143.5                              \n",
       "75                                              145.8                              \n",
       "76                                              143.2                              \n",
       "77                                              144.3                              \n",
       "78                                              148.7                              \n",
       "\n",
       "[66 rows x 10 columns]"
      ],
      "text/html": "<div>\n<style scoped>\n    .dataframe tbody tr th:only-of-type {\n        vertical-align: middle;\n    }\n\n    .dataframe tbody tr th {\n        vertical-align: top;\n    }\n\n    .dataframe thead th {\n        text-align: right;\n    }\n</style>\n<table border=\"1\" class=\"dataframe\">\n  <thead>\n    <tr style=\"text-align: right;\">\n      <th></th>\n      <th>Unnamed: 0</th>\n      <th>Residential Property Price Index ;  Sydney ;</th>\n      <th>Residential Property Price Index ;  Melbourne ;</th>\n      <th>Residential Property Price Index ;  Brisbane ;</th>\n      <th>Residential Property Price Index ;  Adelaide ;</th>\n      <th>Residential Property Price Index ;  Perth ;</th>\n      <th>Residential Property Price Index ;  Hobart ;</th>\n      <th>Residential Property Price Index ;  Darwin ;</th>\n      <th>Residential Property Price Index ;  Canberra ;</th>\n      <th>Residential Property Price Index ;  Weighted average of eight capital cities ;</th>\n    </tr>\n  </thead>\n  <tbody>\n    <tr>\n      <th>13</th>\n      <td>2004-09-01 00:00:00</td>\n      <td>84.2</td>\n      <td>60.9</td>\n      <td>71.2</td>\n      <td>67.1</td>\n      <td>54.7</td>\n      <td>72.3</td>\n      <td>46.8</td>\n      <td>68.6</td>\n      <td>70.6</td>\n    </tr>\n    <tr>\n      <th>14</th>\n      <td>2004-12-01 00:00:00</td>\n      <td>84.8</td>\n      <td>62.4</td>\n      <td>72</td>\n      <td>68.6</td>\n      <td>57.1</td>\n      <td>74.6</td>\n      <td>49.7</td>\n      <td>69.7</td>\n      <td>71.8</td>\n    </tr>\n    <tr>\n      <th>15</th>\n      <td>2005-03-01 00:00:00</td>\n      <td>83.2</td>\n      <td>62.5</td>\n      <td>72.6</td>\n      <td>68.6</td>\n      <td>59.4</td>\n      <td>75.8</td>\n      <td>53.6</td>\n      <td>70.3</td>\n      <td>71.7</td>\n    </tr>\n    <tr>\n      <th>16</th>\n      <td>2005-06-01 00:00:00</td>\n      <td>82.6</td>\n      <td>63.2</td>\n      <td>73.3</td>\n      <td>69.3</td>\n      <td>62.6</td>\n      <td>76.9</td>\n      <td>54.7</td>\n      <td>69.9</td>\n      <td>72.2</td>\n    </tr>\n    <tr>\n      <th>17</th>\n      <td>2005-09-01 00:00:00</td>\n      <td>81.4</td>\n      <td>63.1</td>\n      <td>73.6</td>\n      <td>70</td>\n      <td>65.2</td>\n      <td>76.7</td>\n      <td>56.1</td>\n      <td>70.1</td>\n      <td>72.1</td>\n    </tr>\n    <tr>\n      <th>...</th>\n      <td>...</td>\n      <td>...</td>\n      <td>...</td>\n      <td>...</td>\n      <td>...</td>\n      <td>...</td>\n      <td>...</td>\n      <td>...</td>\n      <td>...</td>\n      <td>...</td>\n    </tr>\n    <tr>\n      <th>74</th>\n      <td>2019-12-01 00:00:00</td>\n      <td>166.4</td>\n      <td>150.4</td>\n      <td>124</td>\n      <td>121.6</td>\n      <td>99.6</td>\n      <td>152.8</td>\n      <td>87.5</td>\n      <td>128</td>\n      <td>143.5</td>\n    </tr>\n    <tr>\n      <th>75</th>\n      <td>2020-03-01 00:00:00</td>\n      <td>169.6</td>\n      <td>153.5</td>\n      <td>124.8</td>\n      <td>122.1</td>\n      <td>100.2</td>\n      <td>156.5</td>\n      <td>88.1</td>\n      <td>128.2</td>\n      <td>145.8</td>\n    </tr>\n    <tr>\n      <th>76</th>\n      <td>2020-06-01 00:00:00</td>\n      <td>165.9</td>\n      <td>150</td>\n      <td>123.7</td>\n      <td>121.1</td>\n      <td>99.5</td>\n      <td>155.8</td>\n      <td>86.9</td>\n      <td>129.2</td>\n      <td>143.2</td>\n    </tr>\n    <tr>\n      <th>77</th>\n      <td>2020-09-01 00:00:00</td>\n      <td>167.6</td>\n      <td>149.6</td>\n      <td>125.6</td>\n      <td>123</td>\n      <td>100.9</td>\n      <td>157.7</td>\n      <td>87.6</td>\n      <td>130.3</td>\n      <td>144.3</td>\n    </tr>\n    <tr>\n      <th>78</th>\n      <td>2020-12-01 00:00:00</td>\n      <td>172.6</td>\n      <td>154.7</td>\n      <td>129</td>\n      <td>126.2</td>\n      <td>103.8</td>\n      <td>162.6</td>\n      <td>89.5</td>\n      <td>134.7</td>\n      <td>148.7</td>\n    </tr>\n  </tbody>\n</table>\n<p>66 rows × 10 columns</p>\n</div>"
     },
     "metadata": {},
     "execution_count": 134
    }
   ],
   "source": [
    "cityPPI_df\n"
   ]
  },
  {
   "cell_type": "code",
   "execution_count": 135,
   "metadata": {},
   "outputs": [
    {
     "output_type": "execute_result",
     "data": {
      "text/plain": [
       "                 Period Sydney Melbourne Brisbane Adelaide Perth Hobart  \\\n",
       "13  2004-09-01 00:00:00   84.2      60.9     71.2     67.1  54.7   72.3   \n",
       "14  2004-12-01 00:00:00   84.8      62.4       72     68.6  57.1   74.6   \n",
       "15  2005-03-01 00:00:00   83.2      62.5     72.6     68.6  59.4   75.8   \n",
       "16  2005-06-01 00:00:00   82.6      63.2     73.3     69.3  62.6   76.9   \n",
       "17  2005-09-01 00:00:00   81.4      63.1     73.6       70  65.2   76.7   \n",
       "\n",
       "   Darwin Canberra Weighted Average  \n",
       "13   46.8     68.6             70.6  \n",
       "14   49.7     69.7             71.8  \n",
       "15   53.6     70.3             71.7  \n",
       "16   54.7     69.9             72.2  \n",
       "17   56.1     70.1             72.1  "
      ],
      "text/html": "<div>\n<style scoped>\n    .dataframe tbody tr th:only-of-type {\n        vertical-align: middle;\n    }\n\n    .dataframe tbody tr th {\n        vertical-align: top;\n    }\n\n    .dataframe thead th {\n        text-align: right;\n    }\n</style>\n<table border=\"1\" class=\"dataframe\">\n  <thead>\n    <tr style=\"text-align: right;\">\n      <th></th>\n      <th>Period</th>\n      <th>Sydney</th>\n      <th>Melbourne</th>\n      <th>Brisbane</th>\n      <th>Adelaide</th>\n      <th>Perth</th>\n      <th>Hobart</th>\n      <th>Darwin</th>\n      <th>Canberra</th>\n      <th>Weighted Average</th>\n    </tr>\n  </thead>\n  <tbody>\n    <tr>\n      <th>13</th>\n      <td>2004-09-01 00:00:00</td>\n      <td>84.2</td>\n      <td>60.9</td>\n      <td>71.2</td>\n      <td>67.1</td>\n      <td>54.7</td>\n      <td>72.3</td>\n      <td>46.8</td>\n      <td>68.6</td>\n      <td>70.6</td>\n    </tr>\n    <tr>\n      <th>14</th>\n      <td>2004-12-01 00:00:00</td>\n      <td>84.8</td>\n      <td>62.4</td>\n      <td>72</td>\n      <td>68.6</td>\n      <td>57.1</td>\n      <td>74.6</td>\n      <td>49.7</td>\n      <td>69.7</td>\n      <td>71.8</td>\n    </tr>\n    <tr>\n      <th>15</th>\n      <td>2005-03-01 00:00:00</td>\n      <td>83.2</td>\n      <td>62.5</td>\n      <td>72.6</td>\n      <td>68.6</td>\n      <td>59.4</td>\n      <td>75.8</td>\n      <td>53.6</td>\n      <td>70.3</td>\n      <td>71.7</td>\n    </tr>\n    <tr>\n      <th>16</th>\n      <td>2005-06-01 00:00:00</td>\n      <td>82.6</td>\n      <td>63.2</td>\n      <td>73.3</td>\n      <td>69.3</td>\n      <td>62.6</td>\n      <td>76.9</td>\n      <td>54.7</td>\n      <td>69.9</td>\n      <td>72.2</td>\n    </tr>\n    <tr>\n      <th>17</th>\n      <td>2005-09-01 00:00:00</td>\n      <td>81.4</td>\n      <td>63.1</td>\n      <td>73.6</td>\n      <td>70</td>\n      <td>65.2</td>\n      <td>76.7</td>\n      <td>56.1</td>\n      <td>70.1</td>\n      <td>72.1</td>\n    </tr>\n  </tbody>\n</table>\n</div>"
     },
     "metadata": {},
     "execution_count": 135
    }
   ],
   "source": [
    "# Rename columns\n",
    "new_columns = {cityPPI_df.columns[0]: 'Period',\n",
    "    cityPPI_df.columns[1]:'Sydney',\n",
    "    cityPPI_df.columns[2]:'Melbourne',\n",
    "    cityPPI_df.columns[3]:'Brisbane',\n",
    "    cityPPI_df.columns[4]:'Adelaide',\n",
    "    cityPPI_df.columns[5]:'Perth',\n",
    "    cityPPI_df.columns[6]:'Hobart',\n",
    "    cityPPI_df.columns[7]:'Darwin',\n",
    "    cityPPI_df.columns[8]:'Canberra',\n",
    "    cityPPI_df.columns[9]:'Weighted Average'}\n",
    "\n",
    "cityPPI_df.rename(columns=new_columns, inplace=True)\n",
    "\n",
    "cityPPI_df.head()\n"
   ]
  },
  {
   "cell_type": "code",
   "execution_count": 136,
   "metadata": {},
   "outputs": [
    {
     "output_type": "execute_result",
     "data": {
      "text/plain": [
       "           Sydney Melbourne Brisbane Adelaide  Perth Hobart Darwin Canberra  \\\n",
       "Period                                                                        \n",
       "2004-09-01   84.2      60.9     71.2     67.1   54.7   72.3   46.8     68.6   \n",
       "2004-12-01   84.8      62.4       72     68.6   57.1   74.6   49.7     69.7   \n",
       "2005-03-01   83.2      62.5     72.6     68.6   59.4   75.8   53.6     70.3   \n",
       "2005-06-01   82.6      63.2     73.3     69.3   62.6   76.9   54.7     69.9   \n",
       "2005-09-01   81.4      63.1     73.6       70   65.2   76.7   56.1     70.1   \n",
       "...           ...       ...      ...      ...    ...    ...    ...      ...   \n",
       "2019-12-01  166.4     150.4      124    121.6   99.6  152.8   87.5      128   \n",
       "2020-03-01  169.6     153.5    124.8    122.1  100.2  156.5   88.1    128.2   \n",
       "2020-06-01  165.9       150    123.7    121.1   99.5  155.8   86.9    129.2   \n",
       "2020-09-01  167.6     149.6    125.6      123  100.9  157.7   87.6    130.3   \n",
       "2020-12-01  172.6     154.7      129    126.2  103.8  162.6   89.5    134.7   \n",
       "\n",
       "           Weighted Average  \n",
       "Period                       \n",
       "2004-09-01             70.6  \n",
       "2004-12-01             71.8  \n",
       "2005-03-01             71.7  \n",
       "2005-06-01             72.2  \n",
       "2005-09-01             72.1  \n",
       "...                     ...  \n",
       "2019-12-01            143.5  \n",
       "2020-03-01            145.8  \n",
       "2020-06-01            143.2  \n",
       "2020-09-01            144.3  \n",
       "2020-12-01            148.7  \n",
       "\n",
       "[66 rows x 9 columns]"
      ],
      "text/html": "<div>\n<style scoped>\n    .dataframe tbody tr th:only-of-type {\n        vertical-align: middle;\n    }\n\n    .dataframe tbody tr th {\n        vertical-align: top;\n    }\n\n    .dataframe thead th {\n        text-align: right;\n    }\n</style>\n<table border=\"1\" class=\"dataframe\">\n  <thead>\n    <tr style=\"text-align: right;\">\n      <th></th>\n      <th>Sydney</th>\n      <th>Melbourne</th>\n      <th>Brisbane</th>\n      <th>Adelaide</th>\n      <th>Perth</th>\n      <th>Hobart</th>\n      <th>Darwin</th>\n      <th>Canberra</th>\n      <th>Weighted Average</th>\n    </tr>\n    <tr>\n      <th>Period</th>\n      <th></th>\n      <th></th>\n      <th></th>\n      <th></th>\n      <th></th>\n      <th></th>\n      <th></th>\n      <th></th>\n      <th></th>\n    </tr>\n  </thead>\n  <tbody>\n    <tr>\n      <th>2004-09-01</th>\n      <td>84.2</td>\n      <td>60.9</td>\n      <td>71.2</td>\n      <td>67.1</td>\n      <td>54.7</td>\n      <td>72.3</td>\n      <td>46.8</td>\n      <td>68.6</td>\n      <td>70.6</td>\n    </tr>\n    <tr>\n      <th>2004-12-01</th>\n      <td>84.8</td>\n      <td>62.4</td>\n      <td>72</td>\n      <td>68.6</td>\n      <td>57.1</td>\n      <td>74.6</td>\n      <td>49.7</td>\n      <td>69.7</td>\n      <td>71.8</td>\n    </tr>\n    <tr>\n      <th>2005-03-01</th>\n      <td>83.2</td>\n      <td>62.5</td>\n      <td>72.6</td>\n      <td>68.6</td>\n      <td>59.4</td>\n      <td>75.8</td>\n      <td>53.6</td>\n      <td>70.3</td>\n      <td>71.7</td>\n    </tr>\n    <tr>\n      <th>2005-06-01</th>\n      <td>82.6</td>\n      <td>63.2</td>\n      <td>73.3</td>\n      <td>69.3</td>\n      <td>62.6</td>\n      <td>76.9</td>\n      <td>54.7</td>\n      <td>69.9</td>\n      <td>72.2</td>\n    </tr>\n    <tr>\n      <th>2005-09-01</th>\n      <td>81.4</td>\n      <td>63.1</td>\n      <td>73.6</td>\n      <td>70</td>\n      <td>65.2</td>\n      <td>76.7</td>\n      <td>56.1</td>\n      <td>70.1</td>\n      <td>72.1</td>\n    </tr>\n    <tr>\n      <th>...</th>\n      <td>...</td>\n      <td>...</td>\n      <td>...</td>\n      <td>...</td>\n      <td>...</td>\n      <td>...</td>\n      <td>...</td>\n      <td>...</td>\n      <td>...</td>\n    </tr>\n    <tr>\n      <th>2019-12-01</th>\n      <td>166.4</td>\n      <td>150.4</td>\n      <td>124</td>\n      <td>121.6</td>\n      <td>99.6</td>\n      <td>152.8</td>\n      <td>87.5</td>\n      <td>128</td>\n      <td>143.5</td>\n    </tr>\n    <tr>\n      <th>2020-03-01</th>\n      <td>169.6</td>\n      <td>153.5</td>\n      <td>124.8</td>\n      <td>122.1</td>\n      <td>100.2</td>\n      <td>156.5</td>\n      <td>88.1</td>\n      <td>128.2</td>\n      <td>145.8</td>\n    </tr>\n    <tr>\n      <th>2020-06-01</th>\n      <td>165.9</td>\n      <td>150</td>\n      <td>123.7</td>\n      <td>121.1</td>\n      <td>99.5</td>\n      <td>155.8</td>\n      <td>86.9</td>\n      <td>129.2</td>\n      <td>143.2</td>\n    </tr>\n    <tr>\n      <th>2020-09-01</th>\n      <td>167.6</td>\n      <td>149.6</td>\n      <td>125.6</td>\n      <td>123</td>\n      <td>100.9</td>\n      <td>157.7</td>\n      <td>87.6</td>\n      <td>130.3</td>\n      <td>144.3</td>\n    </tr>\n    <tr>\n      <th>2020-12-01</th>\n      <td>172.6</td>\n      <td>154.7</td>\n      <td>129</td>\n      <td>126.2</td>\n      <td>103.8</td>\n      <td>162.6</td>\n      <td>89.5</td>\n      <td>134.7</td>\n      <td>148.7</td>\n    </tr>\n  </tbody>\n</table>\n<p>66 rows × 9 columns</p>\n</div>"
     },
     "metadata": {},
     "execution_count": 136
    }
   ],
   "source": [
    "# Reshape data from wide to long\n",
    "idx = ['Period']\n",
    "multi_indexed_df = cityPPI_df.set_index(idx)\n",
    "multi_indexed_df"
   ]
  },
  {
   "cell_type": "code",
   "execution_count": 137,
   "metadata": {},
   "outputs": [],
   "source": [
    "# Stack data\n",
    "stacked_df = multi_indexed_df.stack(dropna=False)"
   ]
  },
  {
   "cell_type": "code",
   "execution_count": 138,
   "metadata": {},
   "outputs": [
    {
     "output_type": "execute_result",
     "data": {
      "text/plain": [
       "Period                      \n",
       "2004-09-01  Sydney               84.2\n",
       "            Melbourne            60.9\n",
       "            Brisbane             71.2\n",
       "            Adelaide             67.1\n",
       "            Perth                54.7\n",
       "                                ...  \n",
       "2020-12-01  Perth               103.8\n",
       "            Hobart              162.6\n",
       "            Darwin               89.5\n",
       "            Canberra            134.7\n",
       "            Weighted Average    148.7\n",
       "Length: 594, dtype: object"
      ]
     },
     "metadata": {},
     "execution_count": 138
    }
   ],
   "source": [
    "stacked_df"
   ]
  },
  {
   "cell_type": "code",
   "execution_count": 139,
   "metadata": {},
   "outputs": [],
   "source": [
    "final_PPI_df = stacked_df.reset_index()"
   ]
  },
  {
   "cell_type": "code",
   "execution_count": 140,
   "metadata": {},
   "outputs": [
    {
     "output_type": "execute_result",
     "data": {
      "text/plain": [
       "        Period           level_1      0\n",
       "0   2004-09-01            Sydney   84.2\n",
       "1   2004-09-01         Melbourne   60.9\n",
       "2   2004-09-01          Brisbane   71.2\n",
       "3   2004-09-01          Adelaide   67.1\n",
       "4   2004-09-01             Perth   54.7\n",
       "..         ...               ...    ...\n",
       "589 2020-12-01             Perth  103.8\n",
       "590 2020-12-01            Hobart  162.6\n",
       "591 2020-12-01            Darwin   89.5\n",
       "592 2020-12-01          Canberra  134.7\n",
       "593 2020-12-01  Weighted Average  148.7\n",
       "\n",
       "[594 rows x 3 columns]"
      ],
      "text/html": "<div>\n<style scoped>\n    .dataframe tbody tr th:only-of-type {\n        vertical-align: middle;\n    }\n\n    .dataframe tbody tr th {\n        vertical-align: top;\n    }\n\n    .dataframe thead th {\n        text-align: right;\n    }\n</style>\n<table border=\"1\" class=\"dataframe\">\n  <thead>\n    <tr style=\"text-align: right;\">\n      <th></th>\n      <th>Period</th>\n      <th>level_1</th>\n      <th>0</th>\n    </tr>\n  </thead>\n  <tbody>\n    <tr>\n      <th>0</th>\n      <td>2004-09-01</td>\n      <td>Sydney</td>\n      <td>84.2</td>\n    </tr>\n    <tr>\n      <th>1</th>\n      <td>2004-09-01</td>\n      <td>Melbourne</td>\n      <td>60.9</td>\n    </tr>\n    <tr>\n      <th>2</th>\n      <td>2004-09-01</td>\n      <td>Brisbane</td>\n      <td>71.2</td>\n    </tr>\n    <tr>\n      <th>3</th>\n      <td>2004-09-01</td>\n      <td>Adelaide</td>\n      <td>67.1</td>\n    </tr>\n    <tr>\n      <th>4</th>\n      <td>2004-09-01</td>\n      <td>Perth</td>\n      <td>54.7</td>\n    </tr>\n    <tr>\n      <th>...</th>\n      <td>...</td>\n      <td>...</td>\n      <td>...</td>\n    </tr>\n    <tr>\n      <th>589</th>\n      <td>2020-12-01</td>\n      <td>Perth</td>\n      <td>103.8</td>\n    </tr>\n    <tr>\n      <th>590</th>\n      <td>2020-12-01</td>\n      <td>Hobart</td>\n      <td>162.6</td>\n    </tr>\n    <tr>\n      <th>591</th>\n      <td>2020-12-01</td>\n      <td>Darwin</td>\n      <td>89.5</td>\n    </tr>\n    <tr>\n      <th>592</th>\n      <td>2020-12-01</td>\n      <td>Canberra</td>\n      <td>134.7</td>\n    </tr>\n    <tr>\n      <th>593</th>\n      <td>2020-12-01</td>\n      <td>Weighted Average</td>\n      <td>148.7</td>\n    </tr>\n  </tbody>\n</table>\n<p>594 rows × 3 columns</p>\n</div>"
     },
     "metadata": {},
     "execution_count": 140
    }
   ],
   "source": [
    "final_PPI_df"
   ]
  },
  {
   "cell_type": "code",
   "execution_count": 141,
   "metadata": {},
   "outputs": [
    {
     "output_type": "execute_result",
     "data": {
      "text/plain": [
       "        Period              City    PPI\n",
       "0   2004-09-01            Sydney   84.2\n",
       "1   2004-09-01         Melbourne   60.9\n",
       "2   2004-09-01          Brisbane   71.2\n",
       "3   2004-09-01          Adelaide   67.1\n",
       "4   2004-09-01             Perth   54.7\n",
       "..         ...               ...    ...\n",
       "589 2020-12-01             Perth  103.8\n",
       "590 2020-12-01            Hobart  162.6\n",
       "591 2020-12-01            Darwin   89.5\n",
       "592 2020-12-01          Canberra  134.7\n",
       "593 2020-12-01  Weighted Average  148.7\n",
       "\n",
       "[594 rows x 3 columns]"
      ],
      "text/html": "<div>\n<style scoped>\n    .dataframe tbody tr th:only-of-type {\n        vertical-align: middle;\n    }\n\n    .dataframe tbody tr th {\n        vertical-align: top;\n    }\n\n    .dataframe thead th {\n        text-align: right;\n    }\n</style>\n<table border=\"1\" class=\"dataframe\">\n  <thead>\n    <tr style=\"text-align: right;\">\n      <th></th>\n      <th>Period</th>\n      <th>City</th>\n      <th>PPI</th>\n    </tr>\n  </thead>\n  <tbody>\n    <tr>\n      <th>0</th>\n      <td>2004-09-01</td>\n      <td>Sydney</td>\n      <td>84.2</td>\n    </tr>\n    <tr>\n      <th>1</th>\n      <td>2004-09-01</td>\n      <td>Melbourne</td>\n      <td>60.9</td>\n    </tr>\n    <tr>\n      <th>2</th>\n      <td>2004-09-01</td>\n      <td>Brisbane</td>\n      <td>71.2</td>\n    </tr>\n    <tr>\n      <th>3</th>\n      <td>2004-09-01</td>\n      <td>Adelaide</td>\n      <td>67.1</td>\n    </tr>\n    <tr>\n      <th>4</th>\n      <td>2004-09-01</td>\n      <td>Perth</td>\n      <td>54.7</td>\n    </tr>\n    <tr>\n      <th>...</th>\n      <td>...</td>\n      <td>...</td>\n      <td>...</td>\n    </tr>\n    <tr>\n      <th>589</th>\n      <td>2020-12-01</td>\n      <td>Perth</td>\n      <td>103.8</td>\n    </tr>\n    <tr>\n      <th>590</th>\n      <td>2020-12-01</td>\n      <td>Hobart</td>\n      <td>162.6</td>\n    </tr>\n    <tr>\n      <th>591</th>\n      <td>2020-12-01</td>\n      <td>Darwin</td>\n      <td>89.5</td>\n    </tr>\n    <tr>\n      <th>592</th>\n      <td>2020-12-01</td>\n      <td>Canberra</td>\n      <td>134.7</td>\n    </tr>\n    <tr>\n      <th>593</th>\n      <td>2020-12-01</td>\n      <td>Weighted Average</td>\n      <td>148.7</td>\n    </tr>\n  </tbody>\n</table>\n<p>594 rows × 3 columns</p>\n</div>"
     },
     "metadata": {},
     "execution_count": 141
    }
   ],
   "source": [
    "final_PPI_df = final_PPI_df.rename(columns={'level_1':'City', 0:'PPI'})\n",
    "final_PPI_df"
   ]
  },
  {
   "cell_type": "code",
   "execution_count": null,
   "metadata": {},
   "outputs": [],
   "source": []
  }
 ]
}