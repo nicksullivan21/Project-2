{
 "metadata": {
  "language_info": {
   "codemirror_mode": {
    "name": "ipython",
    "version": 3
   },
   "file_extension": ".py",
   "mimetype": "text/x-python",
   "name": "python",
   "nbconvert_exporter": "python",
   "pygments_lexer": "ipython3",
   "version": "3.8.5"
  },
  "orig_nbformat": 2,
  "kernelspec": {
   "name": "python3",
   "display_name": "Python 3.8.5 64-bit ('base': conda)",
   "metadata": {
    "interpreter": {
     "hash": "344443636c3027c5042750c9c609acdda283a9c43681b128a8c1053e7ad2aa7d"
    }
   }
  }
 },
 "nbformat": 4,
 "nbformat_minor": 2,
 "cells": [
  {
   "cell_type": "code",
   "execution_count": 9,
   "metadata": {},
   "outputs": [],
   "source": [
    "# Dependencies\n",
    "import pandas as pd\n",
    "import numpy as np"
   ]
  },
  {
   "source": [
    "## Create PPI dataframe"
   ],
   "cell_type": "markdown",
   "metadata": {}
  },
  {
   "cell_type": "code",
   "execution_count": 10,
   "metadata": {},
   "outputs": [],
   "source": [
    "# Store filepath in a variable\n",
    "PPIdata = \"Data/ResidentialPropertyPriceData.xls\""
   ]
  },
  {
   "cell_type": "code",
   "execution_count": 11,
   "metadata": {},
   "outputs": [],
   "source": [
    "# Read data file with pandas library\n",
    "PPI_df = pd.read_excel(PPIdata, 'Data1')"
   ]
  },
  {
   "cell_type": "code",
   "execution_count": 12,
   "metadata": {},
   "outputs": [],
   "source": [
    "# Delete unnecessary rows / rows with null values\n",
    "PPI_df = PPI_df.drop(PPI_df.index[0:15])"
   ]
  },
  {
   "cell_type": "code",
   "execution_count": 13,
   "metadata": {},
   "outputs": [],
   "source": [
    "# Delete unnecessary columns\n",
    "PPI_df.drop(PPI_df.columns[9:28], axis=1, inplace=True)"
   ]
  },
  {
   "cell_type": "code",
   "execution_count": 14,
   "metadata": {},
   "outputs": [
    {
     "output_type": "stream",
     "name": "stdout",
     "text": [
      "<class 'pandas.core.frame.DataFrame'>\nInt64Index: 64 entries, 15 to 78\nData columns (total 9 columns):\n #   Column  Non-Null Count  Dtype \n---  ------  --------------  ----- \n 0   FY      64 non-null     object\n 1   NSW     64 non-null     object\n 2   VIC     64 non-null     object\n 3   QLD     64 non-null     object\n 4   SA      64 non-null     object\n 5   WA      64 non-null     object\n 6   TAS     64 non-null     object\n 7   NT      64 non-null     object\n 8   ACT     64 non-null     object\ndtypes: object(9)\nmemory usage: 5.0+ KB\n"
     ]
    }
   ],
   "source": [
    "# Rename columns\n",
    "new_columns = {PPI_df.columns[0]: 'FY',\n",
    "    PPI_df.columns[1]:'NSW',\n",
    "    PPI_df.columns[2]:'VIC',\n",
    "    PPI_df.columns[3]:'QLD',\n",
    "    PPI_df.columns[4]:'SA',\n",
    "    PPI_df.columns[5]:'WA',\n",
    "    PPI_df.columns[6]:'TAS',\n",
    "    PPI_df.columns[7]:'NT',\n",
    "    PPI_df.columns[8]:'ACT'}\n",
    "\n",
    "PPI_df.rename(columns=new_columns, inplace=True)\n",
    "\n",
    "PPI_df.info()\n"
   ]
  },
  {
   "cell_type": "code",
   "execution_count": 15,
   "metadata": {},
   "outputs": [],
   "source": [
    "# Convert Period to datetime format\n",
    "PPI_df['FY'] = PPI_df['FY'].apply(pd.to_datetime)"
   ]
  },
  {
   "cell_type": "code",
   "execution_count": 16,
   "metadata": {},
   "outputs": [],
   "source": [
    "# Select only PPI at end of FY\n",
    "PPI_fy_df = PPI_df[PPI_df.FY.dt.month == 6]"
   ]
  },
  {
   "cell_type": "code",
   "execution_count": 17,
   "metadata": {},
   "outputs": [
    {
     "output_type": "execute_result",
     "data": {
      "text/plain": [
       "      FY    NSW    VIC    QLD     SA     WA    TAS     NT    ACT\n",
       "16  2005   82.6   63.2   73.3   69.3   62.6   76.9   54.7   69.9\n",
       "20  2006   82.3   67.2   77.5   73.4   86.4   83.4   67.1   74.3\n",
       "24  2007   85.2     76     89   81.9   97.7   89.6   74.1     82\n",
       "28  2008   87.3   85.5  101.3   93.8   97.6   95.2   78.5   87.7\n",
       "32  2009   87.5   86.9   98.8   95.8   95.1   96.4     89   88.7\n",
       "36  2010  101.4  106.2    107  104.7  106.6  103.6  100.9  101.6\n",
       "40  2011  101.4  103.5  102.5    101  100.2  102.9   96.5  101.9\n",
       "44  2012  101.4   99.3   99.9   99.6    101   98.2  104.1   99.5\n",
       "48  2013  108.7  102.7  103.2  100.9  110.6    100    111    101\n",
       "52  2014    126  112.1  110.5  105.6  114.8  104.1  114.7  103.3\n",
       "56  2015  149.8  120.8  113.7  108.5  113.4  105.7  112.6  106.2\n",
       "60  2016  155.2  130.7  118.6  112.3    108  110.9  105.3  112.6\n",
       "64  2017  176.6  148.7  122.1  117.9  104.7  124.7  100.1  121.5\n",
       "68  2018  169.8  152.1  124.2  120.4  103.8    144     94  125.2\n",
       "72  2019  153.5  137.9  120.9  120.3   99.7  146.9   89.3  124.7\n",
       "76  2020  165.9    150  123.7  121.1   99.5  155.8   86.9  129.2"
      ],
      "text/html": "<div>\n<style scoped>\n    .dataframe tbody tr th:only-of-type {\n        vertical-align: middle;\n    }\n\n    .dataframe tbody tr th {\n        vertical-align: top;\n    }\n\n    .dataframe thead th {\n        text-align: right;\n    }\n</style>\n<table border=\"1\" class=\"dataframe\">\n  <thead>\n    <tr style=\"text-align: right;\">\n      <th></th>\n      <th>FY</th>\n      <th>NSW</th>\n      <th>VIC</th>\n      <th>QLD</th>\n      <th>SA</th>\n      <th>WA</th>\n      <th>TAS</th>\n      <th>NT</th>\n      <th>ACT</th>\n    </tr>\n  </thead>\n  <tbody>\n    <tr>\n      <th>16</th>\n      <td>2005</td>\n      <td>82.6</td>\n      <td>63.2</td>\n      <td>73.3</td>\n      <td>69.3</td>\n      <td>62.6</td>\n      <td>76.9</td>\n      <td>54.7</td>\n      <td>69.9</td>\n    </tr>\n    <tr>\n      <th>20</th>\n      <td>2006</td>\n      <td>82.3</td>\n      <td>67.2</td>\n      <td>77.5</td>\n      <td>73.4</td>\n      <td>86.4</td>\n      <td>83.4</td>\n      <td>67.1</td>\n      <td>74.3</td>\n    </tr>\n    <tr>\n      <th>24</th>\n      <td>2007</td>\n      <td>85.2</td>\n      <td>76</td>\n      <td>89</td>\n      <td>81.9</td>\n      <td>97.7</td>\n      <td>89.6</td>\n      <td>74.1</td>\n      <td>82</td>\n    </tr>\n    <tr>\n      <th>28</th>\n      <td>2008</td>\n      <td>87.3</td>\n      <td>85.5</td>\n      <td>101.3</td>\n      <td>93.8</td>\n      <td>97.6</td>\n      <td>95.2</td>\n      <td>78.5</td>\n      <td>87.7</td>\n    </tr>\n    <tr>\n      <th>32</th>\n      <td>2009</td>\n      <td>87.5</td>\n      <td>86.9</td>\n      <td>98.8</td>\n      <td>95.8</td>\n      <td>95.1</td>\n      <td>96.4</td>\n      <td>89</td>\n      <td>88.7</td>\n    </tr>\n    <tr>\n      <th>36</th>\n      <td>2010</td>\n      <td>101.4</td>\n      <td>106.2</td>\n      <td>107</td>\n      <td>104.7</td>\n      <td>106.6</td>\n      <td>103.6</td>\n      <td>100.9</td>\n      <td>101.6</td>\n    </tr>\n    <tr>\n      <th>40</th>\n      <td>2011</td>\n      <td>101.4</td>\n      <td>103.5</td>\n      <td>102.5</td>\n      <td>101</td>\n      <td>100.2</td>\n      <td>102.9</td>\n      <td>96.5</td>\n      <td>101.9</td>\n    </tr>\n    <tr>\n      <th>44</th>\n      <td>2012</td>\n      <td>101.4</td>\n      <td>99.3</td>\n      <td>99.9</td>\n      <td>99.6</td>\n      <td>101</td>\n      <td>98.2</td>\n      <td>104.1</td>\n      <td>99.5</td>\n    </tr>\n    <tr>\n      <th>48</th>\n      <td>2013</td>\n      <td>108.7</td>\n      <td>102.7</td>\n      <td>103.2</td>\n      <td>100.9</td>\n      <td>110.6</td>\n      <td>100</td>\n      <td>111</td>\n      <td>101</td>\n    </tr>\n    <tr>\n      <th>52</th>\n      <td>2014</td>\n      <td>126</td>\n      <td>112.1</td>\n      <td>110.5</td>\n      <td>105.6</td>\n      <td>114.8</td>\n      <td>104.1</td>\n      <td>114.7</td>\n      <td>103.3</td>\n    </tr>\n    <tr>\n      <th>56</th>\n      <td>2015</td>\n      <td>149.8</td>\n      <td>120.8</td>\n      <td>113.7</td>\n      <td>108.5</td>\n      <td>113.4</td>\n      <td>105.7</td>\n      <td>112.6</td>\n      <td>106.2</td>\n    </tr>\n    <tr>\n      <th>60</th>\n      <td>2016</td>\n      <td>155.2</td>\n      <td>130.7</td>\n      <td>118.6</td>\n      <td>112.3</td>\n      <td>108</td>\n      <td>110.9</td>\n      <td>105.3</td>\n      <td>112.6</td>\n    </tr>\n    <tr>\n      <th>64</th>\n      <td>2017</td>\n      <td>176.6</td>\n      <td>148.7</td>\n      <td>122.1</td>\n      <td>117.9</td>\n      <td>104.7</td>\n      <td>124.7</td>\n      <td>100.1</td>\n      <td>121.5</td>\n    </tr>\n    <tr>\n      <th>68</th>\n      <td>2018</td>\n      <td>169.8</td>\n      <td>152.1</td>\n      <td>124.2</td>\n      <td>120.4</td>\n      <td>103.8</td>\n      <td>144</td>\n      <td>94</td>\n      <td>125.2</td>\n    </tr>\n    <tr>\n      <th>72</th>\n      <td>2019</td>\n      <td>153.5</td>\n      <td>137.9</td>\n      <td>120.9</td>\n      <td>120.3</td>\n      <td>99.7</td>\n      <td>146.9</td>\n      <td>89.3</td>\n      <td>124.7</td>\n    </tr>\n    <tr>\n      <th>76</th>\n      <td>2020</td>\n      <td>165.9</td>\n      <td>150</td>\n      <td>123.7</td>\n      <td>121.1</td>\n      <td>99.5</td>\n      <td>155.8</td>\n      <td>86.9</td>\n      <td>129.2</td>\n    </tr>\n  </tbody>\n</table>\n</div>"
     },
     "metadata": {},
     "execution_count": 17
    }
   ],
   "source": [
    "# Convert dates to financial year\n",
    "PPI_fy_df['FY'] = PPI_fy_df['FY'].map(lambda x: x.year if x.month > 3 else x.year-1)\n",
    "PPI_fy_df"
   ]
  },
  {
   "cell_type": "code",
   "execution_count": 18,
   "metadata": {},
   "outputs": [
    {
     "output_type": "execute_result",
     "data": {
      "text/plain": [
       "       FY level_1      0\n",
       "0    2005     NSW   82.6\n",
       "1    2005     VIC   63.2\n",
       "2    2005     QLD   73.3\n",
       "3    2005      SA   69.3\n",
       "4    2005      WA   62.6\n",
       "..    ...     ...    ...\n",
       "123  2020      SA  121.1\n",
       "124  2020      WA   99.5\n",
       "125  2020     TAS  155.8\n",
       "126  2020      NT   86.9\n",
       "127  2020     ACT  129.2\n",
       "\n",
       "[128 rows x 3 columns]"
      ],
      "text/html": "<div>\n<style scoped>\n    .dataframe tbody tr th:only-of-type {\n        vertical-align: middle;\n    }\n\n    .dataframe tbody tr th {\n        vertical-align: top;\n    }\n\n    .dataframe thead th {\n        text-align: right;\n    }\n</style>\n<table border=\"1\" class=\"dataframe\">\n  <thead>\n    <tr style=\"text-align: right;\">\n      <th></th>\n      <th>FY</th>\n      <th>level_1</th>\n      <th>0</th>\n    </tr>\n  </thead>\n  <tbody>\n    <tr>\n      <th>0</th>\n      <td>2005</td>\n      <td>NSW</td>\n      <td>82.6</td>\n    </tr>\n    <tr>\n      <th>1</th>\n      <td>2005</td>\n      <td>VIC</td>\n      <td>63.2</td>\n    </tr>\n    <tr>\n      <th>2</th>\n      <td>2005</td>\n      <td>QLD</td>\n      <td>73.3</td>\n    </tr>\n    <tr>\n      <th>3</th>\n      <td>2005</td>\n      <td>SA</td>\n      <td>69.3</td>\n    </tr>\n    <tr>\n      <th>4</th>\n      <td>2005</td>\n      <td>WA</td>\n      <td>62.6</td>\n    </tr>\n    <tr>\n      <th>...</th>\n      <td>...</td>\n      <td>...</td>\n      <td>...</td>\n    </tr>\n    <tr>\n      <th>123</th>\n      <td>2020</td>\n      <td>SA</td>\n      <td>121.1</td>\n    </tr>\n    <tr>\n      <th>124</th>\n      <td>2020</td>\n      <td>WA</td>\n      <td>99.5</td>\n    </tr>\n    <tr>\n      <th>125</th>\n      <td>2020</td>\n      <td>TAS</td>\n      <td>155.8</td>\n    </tr>\n    <tr>\n      <th>126</th>\n      <td>2020</td>\n      <td>NT</td>\n      <td>86.9</td>\n    </tr>\n    <tr>\n      <th>127</th>\n      <td>2020</td>\n      <td>ACT</td>\n      <td>129.2</td>\n    </tr>\n  </tbody>\n</table>\n<p>128 rows × 3 columns</p>\n</div>"
     },
     "metadata": {},
     "execution_count": 18
    }
   ],
   "source": [
    "# Reshape data from wide to long\n",
    "idx = ['FY']\n",
    "multi_indexed_df = PPI_fy_df.set_index(idx)\n",
    "stacked_df = multi_indexed_df.stack(dropna=False)\n",
    "final_PPI_df = stacked_df.reset_index()\n",
    "final_PPI_df"
   ]
  },
  {
   "cell_type": "code",
   "execution_count": 19,
   "metadata": {},
   "outputs": [],
   "source": [
    "# Rename columns\n",
    "final_PPI_df = final_PPI_df.rename(columns={'level_1':'State',0:'PPI'})"
   ]
  },
  {
   "cell_type": "code",
   "execution_count": 20,
   "metadata": {},
   "outputs": [],
   "source": [
    "# Create primary key by combining FY and State\n",
    "final_PPI_df['ID'] = final_PPI_df['State'] + final_PPI_df['FY'].astype(str)"
   ]
  },
  {
   "cell_type": "code",
   "execution_count": 21,
   "metadata": {},
   "outputs": [
    {
     "output_type": "execute_result",
     "data": {
      "text/plain": [
       "       FY State    PPI       ID\n",
       "0    2005   NSW   82.6  NSW2005\n",
       "1    2005   VIC   63.2  VIC2005\n",
       "2    2005   QLD   73.3  QLD2005\n",
       "3    2005    SA   69.3   SA2005\n",
       "4    2005    WA   62.6   WA2005\n",
       "..    ...   ...    ...      ...\n",
       "123  2020    SA  121.1   SA2020\n",
       "124  2020    WA   99.5   WA2020\n",
       "125  2020   TAS  155.8  TAS2020\n",
       "126  2020    NT   86.9   NT2020\n",
       "127  2020   ACT  129.2  ACT2020\n",
       "\n",
       "[128 rows x 4 columns]"
      ],
      "text/html": "<div>\n<style scoped>\n    .dataframe tbody tr th:only-of-type {\n        vertical-align: middle;\n    }\n\n    .dataframe tbody tr th {\n        vertical-align: top;\n    }\n\n    .dataframe thead th {\n        text-align: right;\n    }\n</style>\n<table border=\"1\" class=\"dataframe\">\n  <thead>\n    <tr style=\"text-align: right;\">\n      <th></th>\n      <th>FY</th>\n      <th>State</th>\n      <th>PPI</th>\n      <th>ID</th>\n    </tr>\n  </thead>\n  <tbody>\n    <tr>\n      <th>0</th>\n      <td>2005</td>\n      <td>NSW</td>\n      <td>82.6</td>\n      <td>NSW2005</td>\n    </tr>\n    <tr>\n      <th>1</th>\n      <td>2005</td>\n      <td>VIC</td>\n      <td>63.2</td>\n      <td>VIC2005</td>\n    </tr>\n    <tr>\n      <th>2</th>\n      <td>2005</td>\n      <td>QLD</td>\n      <td>73.3</td>\n      <td>QLD2005</td>\n    </tr>\n    <tr>\n      <th>3</th>\n      <td>2005</td>\n      <td>SA</td>\n      <td>69.3</td>\n      <td>SA2005</td>\n    </tr>\n    <tr>\n      <th>4</th>\n      <td>2005</td>\n      <td>WA</td>\n      <td>62.6</td>\n      <td>WA2005</td>\n    </tr>\n    <tr>\n      <th>...</th>\n      <td>...</td>\n      <td>...</td>\n      <td>...</td>\n      <td>...</td>\n    </tr>\n    <tr>\n      <th>123</th>\n      <td>2020</td>\n      <td>SA</td>\n      <td>121.1</td>\n      <td>SA2020</td>\n    </tr>\n    <tr>\n      <th>124</th>\n      <td>2020</td>\n      <td>WA</td>\n      <td>99.5</td>\n      <td>WA2020</td>\n    </tr>\n    <tr>\n      <th>125</th>\n      <td>2020</td>\n      <td>TAS</td>\n      <td>155.8</td>\n      <td>TAS2020</td>\n    </tr>\n    <tr>\n      <th>126</th>\n      <td>2020</td>\n      <td>NT</td>\n      <td>86.9</td>\n      <td>NT2020</td>\n    </tr>\n    <tr>\n      <th>127</th>\n      <td>2020</td>\n      <td>ACT</td>\n      <td>129.2</td>\n      <td>ACT2020</td>\n    </tr>\n  </tbody>\n</table>\n<p>128 rows × 4 columns</p>\n</div>"
     },
     "metadata": {},
     "execution_count": 21
    }
   ],
   "source": [
    "final_PPI_df"
   ]
  },
  {
   "source": [
    "## Create Unemployment Dataframe"
   ],
   "cell_type": "markdown",
   "metadata": {}
  },
  {
   "cell_type": "code",
   "execution_count": 22,
   "metadata": {},
   "outputs": [],
   "source": [
    "# Store filepath in a variable\n",
    "unemploymentData = \"Data/UnemploymentData.xls\""
   ]
  },
  {
   "cell_type": "code",
   "execution_count": 23,
   "metadata": {},
   "outputs": [],
   "source": [
    "# Read data file with pandas library\n",
    "unemployment_df = pd.read_excel(unemploymentData, 'Data2')"
   ]
  },
  {
   "cell_type": "code",
   "execution_count": 24,
   "metadata": {},
   "outputs": [],
   "source": [
    "# Delete unnecessary rows / rows with null values\n",
    "unemployment_df = unemployment_df.drop(unemployment_df.index[0:316])"
   ]
  },
  {
   "cell_type": "code",
   "execution_count": 25,
   "metadata": {},
   "outputs": [],
   "source": [
    "# Delete unnecessary columns\n",
    "unemployment_df.drop(unemployment_df.columns[1:153], axis=1, inplace=True)"
   ]
  },
  {
   "cell_type": "code",
   "execution_count": 26,
   "metadata": {},
   "outputs": [],
   "source": [
    "unemployment_df.drop(unemployment_df.columns[23:200], axis=1, inplace=True)"
   ]
  },
  {
   "cell_type": "code",
   "execution_count": 27,
   "metadata": {},
   "outputs": [],
   "source": [
    "unemployment_df.drop(unemployment_df.columns[[1,2,4,5,7,8,10,11,13,14,16,17,19,21]], axis=1, inplace=True)"
   ]
  },
  {
   "cell_type": "code",
   "execution_count": 28,
   "metadata": {},
   "outputs": [
    {
     "output_type": "stream",
     "name": "stdout",
     "text": [
      "<class 'pandas.core.frame.DataFrame'>\nInt64Index: 211 entries, 316 to 526\nData columns (total 9 columns):\n #   Column  Non-Null Count  Dtype \n---  ------  --------------  ----- \n 0   FY      211 non-null    object\n 1   NSW     211 non-null    object\n 2   VIC     211 non-null    object\n 3   QLD     211 non-null    object\n 4   SA      211 non-null    object\n 5   WA      211 non-null    object\n 6   TAS     211 non-null    object\n 7   NT      211 non-null    object\n 8   ACT     211 non-null    object\ndtypes: object(9)\nmemory usage: 16.5+ KB\n"
     ]
    }
   ],
   "source": [
    "# Rename columns\n",
    "new_columns = {unemployment_df.columns[0]: 'FY',\n",
    "    unemployment_df.columns[1]:'NSW',\n",
    "    unemployment_df.columns[2]:'VIC',\n",
    "    unemployment_df.columns[3]:'QLD',\n",
    "    unemployment_df.columns[4]:'SA',\n",
    "    unemployment_df.columns[5]:'WA',\n",
    "    unemployment_df.columns[6]:'TAS',\n",
    "    unemployment_df.columns[7]:'NT',\n",
    "    unemployment_df.columns[8]:'ACT'}\n",
    "\n",
    "unemployment_df.rename(columns=new_columns, inplace=True)\n",
    "\n",
    "unemployment_df.info()"
   ]
  },
  {
   "cell_type": "code",
   "execution_count": 29,
   "metadata": {},
   "outputs": [],
   "source": [
    "# Convert Period to datetime format\n",
    "unemployment_df['FY'] = unemployment_df['FY'].apply(pd.to_datetime)"
   ]
  },
  {
   "cell_type": "code",
   "execution_count": 30,
   "metadata": {},
   "outputs": [],
   "source": [
    "# Select only unemployment rate at end of FY\n",
    "fy_unempl_df = unemployment_df[unemployment_df.FY.dt.month == 6]"
   ]
  },
  {
   "cell_type": "code",
   "execution_count": 31,
   "metadata": {},
   "outputs": [
    {
     "output_type": "execute_result",
     "data": {
      "text/plain": [
       "       FY      NSW      VIC      QLD       SA       WA      TAS       NT  \\\n",
       "325  2004  5.31379  5.12719  5.52304  6.07295  4.98032  6.54754  6.22881   \n",
       "337  2005  4.90549  4.99568  4.58313  5.15285  4.63335  5.62567  4.84487   \n",
       "349  2006  5.22125  4.83133  4.44137  4.48122  3.37102  6.34288   4.7716   \n",
       "361  2007  4.52417  4.46524  3.50859  4.68258  3.73347  4.88635  4.61224   \n",
       "373  2008  4.52152  4.47485   3.6687  4.51107  3.17858  3.76989  3.63655   \n",
       "385  2009   6.3467  5.89572  5.41771  5.15257  5.41842  4.16053  3.48079   \n",
       "397  2010   5.1316  5.28224  5.12455  5.07409  4.08216  5.99522   2.7305   \n",
       "409  2011  5.16498  4.46191  5.05185  4.69165  4.23693  5.03287  3.42289   \n",
       "421  2012  5.09099  5.28634  5.02925  5.93073  3.47514  6.94437  4.32455   \n",
       "433  2013  5.30128  5.63206  6.14036  5.56463  4.56657  8.67053  5.85224   \n",
       "445  2014  5.61029  6.27138   6.1622  6.78229  4.91493  7.23717  5.08306   \n",
       "457  2015   5.6233  5.73209  5.86278  7.92101  5.76003  6.42851  4.74885   \n",
       "469  2016   5.0348   5.3956  6.25979  6.99122  5.56796  6.54031  3.61212   \n",
       "481  2017  4.64903  5.62019  6.41864  6.41548   5.3065  5.48763  3.14649   \n",
       "493  2018   4.5465  5.26738  5.91037  5.27552   5.7042  5.65061  4.30348   \n",
       "505  2019  4.50873  4.54811  6.56648  5.80573  5.27116  6.59417   4.4253   \n",
       "517  2020  6.71453   7.1049  7.88245  8.41194  7.97744   6.7524  5.32834   \n",
       "\n",
       "         ACT  \n",
       "325  3.19697  \n",
       "337  2.88107  \n",
       "349  2.49706  \n",
       "361  3.00885  \n",
       "373   2.3073  \n",
       "385  3.60555  \n",
       "397  3.21459  \n",
       "409  4.08542  \n",
       "421  3.81939  \n",
       "433  3.64912  \n",
       "445  3.36365  \n",
       "457   3.6036  \n",
       "469  3.07201  \n",
       "481  4.71188  \n",
       "493  3.20579  \n",
       "505   2.3044  \n",
       "517   4.1237  "
      ],
      "text/html": "<div>\n<style scoped>\n    .dataframe tbody tr th:only-of-type {\n        vertical-align: middle;\n    }\n\n    .dataframe tbody tr th {\n        vertical-align: top;\n    }\n\n    .dataframe thead th {\n        text-align: right;\n    }\n</style>\n<table border=\"1\" class=\"dataframe\">\n  <thead>\n    <tr style=\"text-align: right;\">\n      <th></th>\n      <th>FY</th>\n      <th>NSW</th>\n      <th>VIC</th>\n      <th>QLD</th>\n      <th>SA</th>\n      <th>WA</th>\n      <th>TAS</th>\n      <th>NT</th>\n      <th>ACT</th>\n    </tr>\n  </thead>\n  <tbody>\n    <tr>\n      <th>325</th>\n      <td>2004</td>\n      <td>5.31379</td>\n      <td>5.12719</td>\n      <td>5.52304</td>\n      <td>6.07295</td>\n      <td>4.98032</td>\n      <td>6.54754</td>\n      <td>6.22881</td>\n      <td>3.19697</td>\n    </tr>\n    <tr>\n      <th>337</th>\n      <td>2005</td>\n      <td>4.90549</td>\n      <td>4.99568</td>\n      <td>4.58313</td>\n      <td>5.15285</td>\n      <td>4.63335</td>\n      <td>5.62567</td>\n      <td>4.84487</td>\n      <td>2.88107</td>\n    </tr>\n    <tr>\n      <th>349</th>\n      <td>2006</td>\n      <td>5.22125</td>\n      <td>4.83133</td>\n      <td>4.44137</td>\n      <td>4.48122</td>\n      <td>3.37102</td>\n      <td>6.34288</td>\n      <td>4.7716</td>\n      <td>2.49706</td>\n    </tr>\n    <tr>\n      <th>361</th>\n      <td>2007</td>\n      <td>4.52417</td>\n      <td>4.46524</td>\n      <td>3.50859</td>\n      <td>4.68258</td>\n      <td>3.73347</td>\n      <td>4.88635</td>\n      <td>4.61224</td>\n      <td>3.00885</td>\n    </tr>\n    <tr>\n      <th>373</th>\n      <td>2008</td>\n      <td>4.52152</td>\n      <td>4.47485</td>\n      <td>3.6687</td>\n      <td>4.51107</td>\n      <td>3.17858</td>\n      <td>3.76989</td>\n      <td>3.63655</td>\n      <td>2.3073</td>\n    </tr>\n    <tr>\n      <th>385</th>\n      <td>2009</td>\n      <td>6.3467</td>\n      <td>5.89572</td>\n      <td>5.41771</td>\n      <td>5.15257</td>\n      <td>5.41842</td>\n      <td>4.16053</td>\n      <td>3.48079</td>\n      <td>3.60555</td>\n    </tr>\n    <tr>\n      <th>397</th>\n      <td>2010</td>\n      <td>5.1316</td>\n      <td>5.28224</td>\n      <td>5.12455</td>\n      <td>5.07409</td>\n      <td>4.08216</td>\n      <td>5.99522</td>\n      <td>2.7305</td>\n      <td>3.21459</td>\n    </tr>\n    <tr>\n      <th>409</th>\n      <td>2011</td>\n      <td>5.16498</td>\n      <td>4.46191</td>\n      <td>5.05185</td>\n      <td>4.69165</td>\n      <td>4.23693</td>\n      <td>5.03287</td>\n      <td>3.42289</td>\n      <td>4.08542</td>\n    </tr>\n    <tr>\n      <th>421</th>\n      <td>2012</td>\n      <td>5.09099</td>\n      <td>5.28634</td>\n      <td>5.02925</td>\n      <td>5.93073</td>\n      <td>3.47514</td>\n      <td>6.94437</td>\n      <td>4.32455</td>\n      <td>3.81939</td>\n    </tr>\n    <tr>\n      <th>433</th>\n      <td>2013</td>\n      <td>5.30128</td>\n      <td>5.63206</td>\n      <td>6.14036</td>\n      <td>5.56463</td>\n      <td>4.56657</td>\n      <td>8.67053</td>\n      <td>5.85224</td>\n      <td>3.64912</td>\n    </tr>\n    <tr>\n      <th>445</th>\n      <td>2014</td>\n      <td>5.61029</td>\n      <td>6.27138</td>\n      <td>6.1622</td>\n      <td>6.78229</td>\n      <td>4.91493</td>\n      <td>7.23717</td>\n      <td>5.08306</td>\n      <td>3.36365</td>\n    </tr>\n    <tr>\n      <th>457</th>\n      <td>2015</td>\n      <td>5.6233</td>\n      <td>5.73209</td>\n      <td>5.86278</td>\n      <td>7.92101</td>\n      <td>5.76003</td>\n      <td>6.42851</td>\n      <td>4.74885</td>\n      <td>3.6036</td>\n    </tr>\n    <tr>\n      <th>469</th>\n      <td>2016</td>\n      <td>5.0348</td>\n      <td>5.3956</td>\n      <td>6.25979</td>\n      <td>6.99122</td>\n      <td>5.56796</td>\n      <td>6.54031</td>\n      <td>3.61212</td>\n      <td>3.07201</td>\n    </tr>\n    <tr>\n      <th>481</th>\n      <td>2017</td>\n      <td>4.64903</td>\n      <td>5.62019</td>\n      <td>6.41864</td>\n      <td>6.41548</td>\n      <td>5.3065</td>\n      <td>5.48763</td>\n      <td>3.14649</td>\n      <td>4.71188</td>\n    </tr>\n    <tr>\n      <th>493</th>\n      <td>2018</td>\n      <td>4.5465</td>\n      <td>5.26738</td>\n      <td>5.91037</td>\n      <td>5.27552</td>\n      <td>5.7042</td>\n      <td>5.65061</td>\n      <td>4.30348</td>\n      <td>3.20579</td>\n    </tr>\n    <tr>\n      <th>505</th>\n      <td>2019</td>\n      <td>4.50873</td>\n      <td>4.54811</td>\n      <td>6.56648</td>\n      <td>5.80573</td>\n      <td>5.27116</td>\n      <td>6.59417</td>\n      <td>4.4253</td>\n      <td>2.3044</td>\n    </tr>\n    <tr>\n      <th>517</th>\n      <td>2020</td>\n      <td>6.71453</td>\n      <td>7.1049</td>\n      <td>7.88245</td>\n      <td>8.41194</td>\n      <td>7.97744</td>\n      <td>6.7524</td>\n      <td>5.32834</td>\n      <td>4.1237</td>\n    </tr>\n  </tbody>\n</table>\n</div>"
     },
     "metadata": {},
     "execution_count": 31
    }
   ],
   "source": [
    "# Convert dates to financial year\n",
    "fy_unempl_df['FY'] = fy_unempl_df['FY'].map(lambda x: x.year if x.month > 3 else x.year-1)\n",
    "fy_unempl_df"
   ]
  },
  {
   "cell_type": "code",
   "execution_count": 32,
   "metadata": {},
   "outputs": [
    {
     "output_type": "execute_result",
     "data": {
      "text/plain": [
       "       FY level_1        0\n",
       "0    2004     NSW  5.31379\n",
       "1    2004     VIC  5.12719\n",
       "2    2004     QLD  5.52304\n",
       "3    2004      SA  6.07295\n",
       "4    2004      WA  4.98032\n",
       "..    ...     ...      ...\n",
       "131  2020      SA  8.41194\n",
       "132  2020      WA  7.97744\n",
       "133  2020     TAS   6.7524\n",
       "134  2020      NT  5.32834\n",
       "135  2020     ACT   4.1237\n",
       "\n",
       "[136 rows x 3 columns]"
      ],
      "text/html": "<div>\n<style scoped>\n    .dataframe tbody tr th:only-of-type {\n        vertical-align: middle;\n    }\n\n    .dataframe tbody tr th {\n        vertical-align: top;\n    }\n\n    .dataframe thead th {\n        text-align: right;\n    }\n</style>\n<table border=\"1\" class=\"dataframe\">\n  <thead>\n    <tr style=\"text-align: right;\">\n      <th></th>\n      <th>FY</th>\n      <th>level_1</th>\n      <th>0</th>\n    </tr>\n  </thead>\n  <tbody>\n    <tr>\n      <th>0</th>\n      <td>2004</td>\n      <td>NSW</td>\n      <td>5.31379</td>\n    </tr>\n    <tr>\n      <th>1</th>\n      <td>2004</td>\n      <td>VIC</td>\n      <td>5.12719</td>\n    </tr>\n    <tr>\n      <th>2</th>\n      <td>2004</td>\n      <td>QLD</td>\n      <td>5.52304</td>\n    </tr>\n    <tr>\n      <th>3</th>\n      <td>2004</td>\n      <td>SA</td>\n      <td>6.07295</td>\n    </tr>\n    <tr>\n      <th>4</th>\n      <td>2004</td>\n      <td>WA</td>\n      <td>4.98032</td>\n    </tr>\n    <tr>\n      <th>...</th>\n      <td>...</td>\n      <td>...</td>\n      <td>...</td>\n    </tr>\n    <tr>\n      <th>131</th>\n      <td>2020</td>\n      <td>SA</td>\n      <td>8.41194</td>\n    </tr>\n    <tr>\n      <th>132</th>\n      <td>2020</td>\n      <td>WA</td>\n      <td>7.97744</td>\n    </tr>\n    <tr>\n      <th>133</th>\n      <td>2020</td>\n      <td>TAS</td>\n      <td>6.7524</td>\n    </tr>\n    <tr>\n      <th>134</th>\n      <td>2020</td>\n      <td>NT</td>\n      <td>5.32834</td>\n    </tr>\n    <tr>\n      <th>135</th>\n      <td>2020</td>\n      <td>ACT</td>\n      <td>4.1237</td>\n    </tr>\n  </tbody>\n</table>\n<p>136 rows × 3 columns</p>\n</div>"
     },
     "metadata": {},
     "execution_count": 32
    }
   ],
   "source": [
    "# Reshape data from wide to long\n",
    "idx = ['FY']\n",
    "multi_indexed_df2 = fy_unempl_df.set_index(idx)\n",
    "stacked_df2 = multi_indexed_df2.stack(dropna=False)\n",
    "final_unempl_df = stacked_df2.reset_index()\n",
    "final_unempl_df"
   ]
  },
  {
   "cell_type": "code",
   "execution_count": 33,
   "metadata": {},
   "outputs": [],
   "source": [
    "# Rename columns\n",
    "final_unempl_df = final_unempl_df.rename(columns={'level_1':'State',0:'UnemploymentRate'})"
   ]
  },
  {
   "cell_type": "code",
   "execution_count": 34,
   "metadata": {},
   "outputs": [],
   "source": [
    "# Create primary key by combining FY and State\n",
    "final_unempl_df['ID'] = final_unempl_df['State'] + final_unempl_df['FY'].astype(str)"
   ]
  },
  {
   "cell_type": "code",
   "execution_count": 35,
   "metadata": {},
   "outputs": [
    {
     "output_type": "execute_result",
     "data": {
      "text/plain": [
       "       FY State UnemploymentRate       ID\n",
       "0    2004   NSW          5.31379  NSW2004\n",
       "1    2004   VIC          5.12719  VIC2004\n",
       "2    2004   QLD          5.52304  QLD2004\n",
       "3    2004    SA          6.07295   SA2004\n",
       "4    2004    WA          4.98032   WA2004\n",
       "..    ...   ...              ...      ...\n",
       "131  2020    SA          8.41194   SA2020\n",
       "132  2020    WA          7.97744   WA2020\n",
       "133  2020   TAS           6.7524  TAS2020\n",
       "134  2020    NT          5.32834   NT2020\n",
       "135  2020   ACT           4.1237  ACT2020\n",
       "\n",
       "[136 rows x 4 columns]"
      ],
      "text/html": "<div>\n<style scoped>\n    .dataframe tbody tr th:only-of-type {\n        vertical-align: middle;\n    }\n\n    .dataframe tbody tr th {\n        vertical-align: top;\n    }\n\n    .dataframe thead th {\n        text-align: right;\n    }\n</style>\n<table border=\"1\" class=\"dataframe\">\n  <thead>\n    <tr style=\"text-align: right;\">\n      <th></th>\n      <th>FY</th>\n      <th>State</th>\n      <th>UnemploymentRate</th>\n      <th>ID</th>\n    </tr>\n  </thead>\n  <tbody>\n    <tr>\n      <th>0</th>\n      <td>2004</td>\n      <td>NSW</td>\n      <td>5.31379</td>\n      <td>NSW2004</td>\n    </tr>\n    <tr>\n      <th>1</th>\n      <td>2004</td>\n      <td>VIC</td>\n      <td>5.12719</td>\n      <td>VIC2004</td>\n    </tr>\n    <tr>\n      <th>2</th>\n      <td>2004</td>\n      <td>QLD</td>\n      <td>5.52304</td>\n      <td>QLD2004</td>\n    </tr>\n    <tr>\n      <th>3</th>\n      <td>2004</td>\n      <td>SA</td>\n      <td>6.07295</td>\n      <td>SA2004</td>\n    </tr>\n    <tr>\n      <th>4</th>\n      <td>2004</td>\n      <td>WA</td>\n      <td>4.98032</td>\n      <td>WA2004</td>\n    </tr>\n    <tr>\n      <th>...</th>\n      <td>...</td>\n      <td>...</td>\n      <td>...</td>\n      <td>...</td>\n    </tr>\n    <tr>\n      <th>131</th>\n      <td>2020</td>\n      <td>SA</td>\n      <td>8.41194</td>\n      <td>SA2020</td>\n    </tr>\n    <tr>\n      <th>132</th>\n      <td>2020</td>\n      <td>WA</td>\n      <td>7.97744</td>\n      <td>WA2020</td>\n    </tr>\n    <tr>\n      <th>133</th>\n      <td>2020</td>\n      <td>TAS</td>\n      <td>6.7524</td>\n      <td>TAS2020</td>\n    </tr>\n    <tr>\n      <th>134</th>\n      <td>2020</td>\n      <td>NT</td>\n      <td>5.32834</td>\n      <td>NT2020</td>\n    </tr>\n    <tr>\n      <th>135</th>\n      <td>2020</td>\n      <td>ACT</td>\n      <td>4.1237</td>\n      <td>ACT2020</td>\n    </tr>\n  </tbody>\n</table>\n<p>136 rows × 4 columns</p>\n</div>"
     },
     "metadata": {},
     "execution_count": 35
    }
   ],
   "source": [
    "final_unempl_df"
   ]
  },
  {
   "source": [
    "## Merge dataframes"
   ],
   "cell_type": "markdown",
   "metadata": {}
  },
  {
   "cell_type": "code",
   "execution_count": 36,
   "metadata": {},
   "outputs": [],
   "source": [
    "merged_df = final_PPI_df.merge(final_unempl_df)"
   ]
  },
  {
   "cell_type": "code",
   "execution_count": 37,
   "metadata": {},
   "outputs": [
    {
     "output_type": "stream",
     "name": "stdout",
     "text": [
      "<class 'pandas.core.frame.DataFrame'>\nInt64Index: 128 entries, 0 to 127\nData columns (total 5 columns):\n #   Column            Non-Null Count  Dtype \n---  ------            --------------  ----- \n 0   FY                128 non-null    int64 \n 1   State             128 non-null    object\n 2   PPI               128 non-null    object\n 3   ID                128 non-null    object\n 4   UnemploymentRate  128 non-null    object\ndtypes: int64(1), object(4)\nmemory usage: 6.0+ KB\n"
     ]
    }
   ],
   "source": [
    "merged_df.info()"
   ]
  },
  {
   "cell_type": "code",
   "execution_count": 38,
   "metadata": {},
   "outputs": [],
   "source": [
    "# Convert df to csv\n",
    "merged_df.to_csv(\"/Users/nicksullivan/Desktop/Project-2/Data/PPIvsUnemployment.csv\")"
   ]
  },
  {
   "source": [
    "## Connect to pgAdmin"
   ],
   "cell_type": "markdown",
   "metadata": {}
  },
  {
   "cell_type": "code",
   "execution_count": 68,
   "metadata": {},
   "outputs": [],
   "source": [
    "from sqlalchemy import create_engine"
   ]
  },
  {
   "cell_type": "code",
   "execution_count": 69,
   "metadata": {},
   "outputs": [],
   "source": [
    "rds_connection_string = f\"postgres:password@localhost:5432/project2_db\"\n",
    "engine = create_engine(f'postgresql://{rds_connection_string}')"
   ]
  },
  {
   "cell_type": "code",
   "execution_count": 70,
   "metadata": {},
   "outputs": [
    {
     "output_type": "execute_result",
     "data": {
      "text/plain": [
       "          Date  WeightedAverage  TargetCashRate\n",
       "0  31-Mar-2005             71.7             5.5\n",
       "1  30-Jun-2005             72.2             5.5\n",
       "2  30-Sep-2005             72.1             5.5\n",
       "3  31-Dec-2005             73.5             5.5\n",
       "4  31-Mar-2006             74.3             5.5"
      ],
      "text/html": "<div>\n<style scoped>\n    .dataframe tbody tr th:only-of-type {\n        vertical-align: middle;\n    }\n\n    .dataframe tbody tr th {\n        vertical-align: top;\n    }\n\n    .dataframe thead th {\n        text-align: right;\n    }\n</style>\n<table border=\"1\" class=\"dataframe\">\n  <thead>\n    <tr style=\"text-align: right;\">\n      <th></th>\n      <th>Date</th>\n      <th>WeightedAverage</th>\n      <th>TargetCashRate</th>\n    </tr>\n  </thead>\n  <tbody>\n    <tr>\n      <th>0</th>\n      <td>31-Mar-2005</td>\n      <td>71.7</td>\n      <td>5.5</td>\n    </tr>\n    <tr>\n      <th>1</th>\n      <td>30-Jun-2005</td>\n      <td>72.2</td>\n      <td>5.5</td>\n    </tr>\n    <tr>\n      <th>2</th>\n      <td>30-Sep-2005</td>\n      <td>72.1</td>\n      <td>5.5</td>\n    </tr>\n    <tr>\n      <th>3</th>\n      <td>31-Dec-2005</td>\n      <td>73.5</td>\n      <td>5.5</td>\n    </tr>\n    <tr>\n      <th>4</th>\n      <td>31-Mar-2006</td>\n      <td>74.3</td>\n      <td>5.5</td>\n    </tr>\n  </tbody>\n</table>\n</div>"
     },
     "metadata": {},
     "execution_count": 70
    }
   ],
   "source": [
    "# Load data\n",
    "file = \"Data/PPIvsInterestRate.csv\"\n",
    "\n",
    "# Read file and store into pandas df\n",
    "PPIvsInterestRate_df = pd.read_csv(file)\n",
    "\n",
    "# Test whether data has been read\n",
    "PPIvsInterestRate_df.head()"
   ]
  },
  {
   "cell_type": "code",
   "execution_count": 71,
   "metadata": {},
   "outputs": [],
   "source": [
    "# Read in database to sql\n",
    "PPIvsInterestRate_df.to_sql(name='PPIvsInterestRate_df', con=engine, if_exists='replace', index=False)"
   ]
  },
  {
   "cell_type": "code",
   "execution_count": null,
   "metadata": {},
   "outputs": [],
   "source": []
  }
 ]
}